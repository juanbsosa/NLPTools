{
  "cells": [
    {
      "cell_type": "code",
      "execution_count": 1,
      "metadata": {
        "id": "bMrMW27jL5ll"
      },
      "outputs": [],
      "source": [
        "import csv"
      ]
    },
    {
      "cell_type": "code",
      "execution_count": 3,
      "metadata": {
        "id": "agIE2vxWNVkd"
      },
      "outputs": [
        {
          "data": {
            "text/plain": [
              "[['just plain boring', 'A'],\n",
              " ['entirely predictable and lacks energy', 'A'],\n",
              " ['no surprises and a few laughs', 'A'],\n",
              " ['very powerful', 'B'],\n",
              " ['the most fun film of the summer', 'B'],\n",
              " ['i hate my life', 'C'],\n",
              " ['ideally we would like this', 'D']]"
            ]
          },
          "execution_count": 3,
          "metadata": {},
          "output_type": "execute_result"
        }
      ],
      "source": [
        "training_data = []\n",
        "\n",
        "with open('lecture3.csv','r') as csv_file:\n",
        "  csv_reader = csv.reader(csv_file, delimiter=',')\n",
        "  for row in csv_reader:\n",
        "    training_data.append(row)\n",
        "\n",
        "training_data"
      ]
    },
    {
      "cell_type": "code",
      "execution_count": 6,
      "metadata": {
        "id": "Gp9r9W4UNjrb"
      },
      "outputs": [],
      "source": [
        "NB_likelihood_count = {}   #C(w|c)\n",
        "NB_prior_counts = {}      #C(c)\n",
        "vocabulary = []\n",
        "for row in training_data:\n",
        "  words = row[0].lower().split(' ')\n",
        "  vocabulary.extend(words)\n",
        "  label = row[1]\n",
        "  if label not in NB_prior_counts:\n",
        "    NB_prior_counts[label]=1\n",
        "  else:\n",
        "    NB_prior_counts[label] += 1\n",
        "  if label not in NB_likelihood_count:\n",
        "    NB_likelihood_count[label] = {}\n",
        "\n",
        "  for w in words:\n",
        "    if w not in NB_likelihood_count[label]:\n",
        "      NB_likelihood_count[label][w] =1\n",
        "    else:\n",
        "      NB_likelihood_count[label][w] =+1"
      ]
    },
    {
      "cell_type": "code",
      "execution_count": 7,
      "metadata": {
        "id": "kRKWS_SNRvQQ"
      },
      "outputs": [],
      "source": [
        "V = len(set(vocabulary))    # |V| for laplace smoothing"
      ]
    },
    {
      "cell_type": "code",
      "execution_count": 8,
      "metadata": {
        "id": "iZbFjNZbOzbC"
      },
      "outputs": [],
      "source": [
        "NB_likelihood = {}\n",
        "NB_prior = {}\n",
        "for label in NB_prior_counts:\n",
        "  NB_prior[label] = NB_prior_counts[label]/(sum(NB_prior_counts.values()))"
      ]
    },
    {
      "cell_type": "code",
      "execution_count": 9,
      "metadata": {
        "id": "8rxKybG6RC27"
      },
      "outputs": [],
      "source": [
        "for label in NB_likelihood_count:\n",
        "  NB_likelihood[label] = {}\n",
        "  for word in NB_likelihood_count[label]:\n",
        "    numerator = NB_likelihood_count[label][word]+1\n",
        "    denominator = sum(NB_likelihood_count[label].values())+V\n",
        "    NB_likelihood[label][word] = numerator/denominator"
      ]
    },
    {
      "cell_type": "code",
      "execution_count": null,
      "metadata": {
        "id": "sg0QHEOlWnNt"
      },
      "outputs": [],
      "source": []
    },
    {
      "cell_type": "code",
      "execution_count": 10,
      "metadata": {
        "colab": {
          "base_uri": "https://localhost:8080/",
          "height": 232
        },
        "id": "k8tJuLV0SpBj",
        "outputId": "8948dd1e-440d-47d6-f584-71c978f4e108"
      },
      "outputs": [],
      "source": [
        "input = 'predictable with no fun'\n",
        "words = input.split(' ')\n",
        "probs = {}\n",
        "for label in NB_prior:\n",
        "  probs[label] = NB_prior[label]\n",
        "  for w in words:\n",
        "    if w in NB_likelihood[label]:\n",
        "      probs[label] *= NB_likelihood[label][w]\n",
        "    else:\n",
        "      numerator = 0+1\n",
        "      denominator = sum(NB_likelihood_count[label].values())+V\n",
        "      probs[label] *= (numerator/denominator)"
      ]
    },
    {
      "cell_type": "code",
      "execution_count": null,
      "metadata": {
        "colab": {
          "base_uri": "https://localhost:8080/"
        },
        "id": "8bqpPhUYWvED",
        "outputId": "c165e953-69ea-4fb7-af76-a75b4a6e1eee"
      },
      "outputs": [
        {
          "data": {
            "text/plain": [
              "{'just': 0.046511627906976744,\n",
              " 'plain': 0.046511627906976744,\n",
              " 'boring': 0.046511627906976744,\n",
              " 'entirely': 0.046511627906976744,\n",
              " 'predictable': 0.046511627906976744,\n",
              " 'and': 0.046511627906976744,\n",
              " 'lacks': 0.046511627906976744,\n",
              " 'energy': 0.046511627906976744,\n",
              " 'no': 0.046511627906976744,\n",
              " 'surprises': 0.046511627906976744,\n",
              " 'a': 0.046511627906976744,\n",
              " 'few': 0.046511627906976744,\n",
              " 'laughs': 0.046511627906976744}"
            ]
          },
          "execution_count": 48,
          "metadata": {},
          "output_type": "execute_result"
        }
      ],
      "source": [
        "NB_likelihood[label]"
      ]
    },
    {
      "cell_type": "code",
      "execution_count": 11,
      "metadata": {
        "id": "N5KBeqxETdx3"
      },
      "outputs": [],
      "source": [
        "norm_prob = {}\n",
        "for label in probs:\n",
        "  norm_prob[label] = probs[label]/(sum(probs.values()))"
      ]
    },
    {
      "cell_type": "code",
      "execution_count": 12,
      "metadata": {
        "colab": {
          "base_uri": "https://localhost:8080/"
        },
        "id": "xd2x4JVpUMa9",
        "outputId": "67d02add-f7fa-450f-f99b-344d9fd13763"
      },
      "outputs": [
        {
          "data": {
            "text/plain": [
              "{'A': 0.5129298104319789,\n",
              " 'B': 0.280334224216016,\n",
              " 'C': 0.10935404399508931,\n",
              " 'D': 0.09738192135691573}"
            ]
          },
          "execution_count": 12,
          "metadata": {},
          "output_type": "execute_result"
        }
      ],
      "source": [
        "norm_prob"
      ]
    }
  ],
  "metadata": {
    "colab": {
      "provenance": []
    },
    "kernelspec": {
      "display_name": "Python 3",
      "name": "python3"
    },
    "language_info": {
      "codemirror_mode": {
        "name": "ipython",
        "version": 3
      },
      "file_extension": ".py",
      "mimetype": "text/x-python",
      "name": "python",
      "nbconvert_exporter": "python",
      "pygments_lexer": "ipython3",
      "version": "3.9.6"
    }
  },
  "nbformat": 4,
  "nbformat_minor": 0
}
