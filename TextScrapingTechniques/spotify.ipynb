{
 "cells": [
  {
   "cell_type": "code",
   "execution_count": 17,
   "metadata": {},
   "outputs": [],
   "source": [
    "# Use the Spotify API\n",
    "# first get the client ID and secret\n",
    "import spotipy\n",
    "from spotipy.oauth2 import SpotifyClientCredentials\n",
    "\n",
    "cid= ''\n",
    "secret=''\n",
    "client_credentials_manager = SpotifyClientCredentials(client_id=cid, client_secret=secret)\n",
    "sp = spotipy.Spotify(client_credentials_manager=client_credentials_manager)"
   ]
  },
  {
   "cell_type": "code",
   "execution_count": 18,
   "metadata": {},
   "outputs": [
    {
     "name": "stdout",
     "output_type": "stream",
     "text": [
      "{'artists': {'href': 'https://api.spotify.com/v1/search?query=artist%3ARihanna&type=artist&offset=0&limit=10', 'items': [{'external_urls': {'spotify': 'https://open.spotify.com/artist/5pKCCKE2ajJHZ9KAiaK11H'}, 'followers': {'href': None, 'total': 58273843}, 'genres': ['barbadian pop', 'pop', 'urban contemporary'], 'href': 'https://api.spotify.com/v1/artists/5pKCCKE2ajJHZ9KAiaK11H', 'id': '5pKCCKE2ajJHZ9KAiaK11H', 'images': [{'height': 640, 'url': 'https://i.scdn.co/image/ab6761610000e5eb99e4fca7c0b7cb166d915789', 'width': 640}, {'height': 320, 'url': 'https://i.scdn.co/image/ab6761610000517499e4fca7c0b7cb166d915789', 'width': 320}, {'height': 160, 'url': 'https://i.scdn.co/image/ab6761610000f17899e4fca7c0b7cb166d915789', 'width': 160}], 'name': 'Rihanna', 'popularity': 89, 'type': 'artist', 'uri': 'spotify:artist:5pKCCKE2ajJHZ9KAiaK11H'}, {'external_urls': {'spotify': 'https://open.spotify.com/artist/7At6tEoztHCols7d01s4bu'}, 'followers': {'href': None, 'total': 125}, 'genres': [], 'href': 'https://api.spotify.com/v1/artists/7At6tEoztHCols7d01s4bu', 'id': '7At6tEoztHCols7d01s4bu', 'images': [{'height': 640, 'url': 'https://i.scdn.co/image/ab67616d0000b2733d333a265d3766da4eed03c7', 'width': 640}, {'height': 300, 'url': 'https://i.scdn.co/image/ab67616d00001e023d333a265d3766da4eed03c7', 'width': 300}, {'height': 64, 'url': 'https://i.scdn.co/image/ab67616d000048513d333a265d3766da4eed03c7', 'width': 64}], 'name': 'Rihanna Nyla', 'popularity': 14, 'type': 'artist', 'uri': 'spotify:artist:7At6tEoztHCols7d01s4bu'}, {'external_urls': {'spotify': 'https://open.spotify.com/artist/0G2DSgDTcngcQRKMVEUW0f'}, 'followers': {'href': None, 'total': 0}, 'genres': [], 'href': 'https://api.spotify.com/v1/artists/0G2DSgDTcngcQRKMVEUW0f', 'id': '0G2DSgDTcngcQRKMVEUW0f', 'images': [{'height': 640, 'url': 'https://i.scdn.co/image/ab67616d0000b273eae50e2d24069385e1e20722', 'width': 640}, {'height': 300, 'url': 'https://i.scdn.co/image/ab67616d00001e02eae50e2d24069385e1e20722', 'width': 300}, {'height': 64, 'url': 'https://i.scdn.co/image/ab67616d00004851eae50e2d24069385e1e20722', 'width': 64}], 'name': 'Rihanna Stafford', 'popularity': 5, 'type': 'artist', 'uri': 'spotify:artist:0G2DSgDTcngcQRKMVEUW0f'}, {'external_urls': {'spotify': 'https://open.spotify.com/artist/6EuaupWM6v0W9PeMB4iMV0'}, 'followers': {'href': None, 'total': 21}, 'genres': [], 'href': 'https://api.spotify.com/v1/artists/6EuaupWM6v0W9PeMB4iMV0', 'id': '6EuaupWM6v0W9PeMB4iMV0', 'images': [], 'name': 'Rihannanas', 'popularity': 0, 'type': 'artist', 'uri': 'spotify:artist:6EuaupWM6v0W9PeMB4iMV0'}, {'external_urls': {'spotify': 'https://open.spotify.com/artist/4evsbyR4r4vo6QfoPRC5Tg'}, 'followers': {'href': None, 'total': 278}, 'genres': [], 'href': 'https://api.spotify.com/v1/artists/4evsbyR4r4vo6QfoPRC5Tg', 'id': '4evsbyR4r4vo6QfoPRC5Tg', 'images': [], 'name': 'Rihanna Paige', 'popularity': 0, 'type': 'artist', 'uri': 'spotify:artist:4evsbyR4r4vo6QfoPRC5Tg'}, {'external_urls': {'spotify': 'https://open.spotify.com/artist/4pSWDyXmjyMGQKRzDrqyag'}, 'followers': {'href': None, 'total': 114}, 'genres': [], 'href': 'https://api.spotify.com/v1/artists/4pSWDyXmjyMGQKRzDrqyag', 'id': '4pSWDyXmjyMGQKRzDrqyag', 'images': [], 'name': 'Rihanna Nicole', 'popularity': 0, 'type': 'artist', 'uri': 'spotify:artist:4pSWDyXmjyMGQKRzDrqyag'}, {'external_urls': {'spotify': 'https://open.spotify.com/artist/0TpVyDAUg0c4sMlQJR803T'}, 'followers': {'href': None, 'total': 199}, 'genres': [], 'href': 'https://api.spotify.com/v1/artists/0TpVyDAUg0c4sMlQJR803T', 'id': '0TpVyDAUg0c4sMlQJR803T', 'images': [], 'name': 'Robyn Rihanna Fenty', 'popularity': 0, 'type': 'artist', 'uri': 'spotify:artist:0TpVyDAUg0c4sMlQJR803T'}, {'external_urls': {'spotify': 'https://open.spotify.com/artist/7ATZCZyeoQrpbVWZ2c87Ou'}, 'followers': {'href': None, 'total': 547}, 'genres': [], 'href': 'https://api.spotify.com/v1/artists/7ATZCZyeoQrpbVWZ2c87Ou', 'id': '7ATZCZyeoQrpbVWZ2c87Ou', 'images': [{'height': 640, 'url': 'https://i.scdn.co/image/ab67616d0000b273609f2b94cc835d782559ee2b', 'width': 640}, {'height': 300, 'url': 'https://i.scdn.co/image/ab67616d00001e02609f2b94cc835d782559ee2b', 'width': 300}, {'height': 64, 'url': 'https://i.scdn.co/image/ab67616d00004851609f2b94cc835d782559ee2b', 'width': 64}], 'name': 'Rihannas Lieblingsband', 'popularity': 0, 'type': 'artist', 'uri': 'spotify:artist:7ATZCZyeoQrpbVWZ2c87Ou'}, {'external_urls': {'spotify': 'https://open.spotify.com/artist/0FqmQkRbw57yYkmIvmGUI1'}, 'followers': {'href': None, 'total': 1}, 'genres': [], 'href': 'https://api.spotify.com/v1/artists/0FqmQkRbw57yYkmIvmGUI1', 'id': '0FqmQkRbw57yYkmIvmGUI1', 'images': [], 'name': 'Rihanna Grey', 'popularity': 0, 'type': 'artist', 'uri': 'spotify:artist:0FqmQkRbw57yYkmIvmGUI1'}, {'external_urls': {'spotify': 'https://open.spotify.com/artist/6ZMElZVjKXjGvfNgCjdCAm'}, 'followers': {'href': None, 'total': 148}, 'genres': [], 'href': 'https://api.spotify.com/v1/artists/6ZMElZVjKXjGvfNgCjdCAm', 'id': '6ZMElZVjKXjGvfNgCjdCAm', 'images': [{'height': 640, 'url': 'https://i.scdn.co/image/ab67616d0000b273435492bab3f9d62123ebd15d', 'width': 640}, {'height': 300, 'url': 'https://i.scdn.co/image/ab67616d00001e02435492bab3f9d62123ebd15d', 'width': 300}, {'height': 64, 'url': 'https://i.scdn.co/image/ab67616d00004851435492bab3f9d62123ebd15d', 'width': 64}], 'name': 'Rihanna Henderson', 'popularity': 0, 'type': 'artist', 'uri': 'spotify:artist:6ZMElZVjKXjGvfNgCjdCAm'}], 'limit': 10, 'next': 'https://api.spotify.com/v1/search?query=artist%3ARihanna&type=artist&offset=10&limit=10', 'offset': 0, 'previous': None, 'total': 29}}\n"
     ]
    }
   ],
   "source": [
    "# Get data from an artist\n",
    "name = 'Rihanna'\n",
    "results = sp.search(q=f'artist:{name}', type='artist')\n",
    "print(results)"
   ]
  },
  {
   "cell_type": "code",
   "execution_count": 19,
   "metadata": {},
   "outputs": [
    {
     "data": {
      "text/plain": [
       "'https://open.spotify.com/artist/5pKCCKE2ajJHZ9KAiaK11H'"
      ]
     },
     "execution_count": 19,
     "metadata": {},
     "output_type": "execute_result"
    }
   ],
   "source": [
    "# Visit this link to see if it is the artist you want\n",
    "results['artists']['items'][0]['external_urls']['spotify']"
   ]
  },
  {
   "cell_type": "code",
   "execution_count": 21,
   "metadata": {},
   "outputs": [
    {
     "data": {
      "text/plain": [
       "{'album': {'album_type': 'album',\n",
       "  'artists': [{'external_urls': {'spotify': 'https://open.spotify.com/artist/5pKCCKE2ajJHZ9KAiaK11H'},\n",
       "    'href': 'https://api.spotify.com/v1/artists/5pKCCKE2ajJHZ9KAiaK11H',\n",
       "    'id': '5pKCCKE2ajJHZ9KAiaK11H',\n",
       "    'name': 'Rihanna',\n",
       "    'type': 'artist',\n",
       "    'uri': 'spotify:artist:5pKCCKE2ajJHZ9KAiaK11H'}],\n",
       "  'available_markets': ['CA', 'US'],\n",
       "  'external_urls': {'spotify': 'https://open.spotify.com/album/4OXnPSBtZo8PBFiTOfuumP'},\n",
       "  'href': 'https://api.spotify.com/v1/albums/4OXnPSBtZo8PBFiTOfuumP',\n",
       "  'id': '4OXnPSBtZo8PBFiTOfuumP',\n",
       "  'images': [{'height': 640,\n",
       "    'url': 'https://i.scdn.co/image/ab67616d0000b273b9ff0a5f40d3406aed5e5e3b',\n",
       "    'width': 640},\n",
       "   {'height': 300,\n",
       "    'url': 'https://i.scdn.co/image/ab67616d00001e02b9ff0a5f40d3406aed5e5e3b',\n",
       "    'width': 300},\n",
       "   {'height': 64,\n",
       "    'url': 'https://i.scdn.co/image/ab67616d00004851b9ff0a5f40d3406aed5e5e3b',\n",
       "    'width': 64}],\n",
       "  'name': 'Good Girl Gone Bad',\n",
       "  'release_date': '2007-01-01',\n",
       "  'release_date_precision': 'day',\n",
       "  'total_tracks': 12,\n",
       "  'type': 'album',\n",
       "  'uri': 'spotify:album:4OXnPSBtZo8PBFiTOfuumP'},\n",
       " 'artists': [{'external_urls': {'spotify': 'https://open.spotify.com/artist/5pKCCKE2ajJHZ9KAiaK11H'},\n",
       "   'href': 'https://api.spotify.com/v1/artists/5pKCCKE2ajJHZ9KAiaK11H',\n",
       "   'id': '5pKCCKE2ajJHZ9KAiaK11H',\n",
       "   'name': 'Rihanna',\n",
       "   'type': 'artist',\n",
       "   'uri': 'spotify:artist:5pKCCKE2ajJHZ9KAiaK11H'},\n",
       "  {'external_urls': {'spotify': 'https://open.spotify.com/artist/3nFkdlSjzX9mRTtwJOzDYB'},\n",
       "   'href': 'https://api.spotify.com/v1/artists/3nFkdlSjzX9mRTtwJOzDYB',\n",
       "   'id': '3nFkdlSjzX9mRTtwJOzDYB',\n",
       "   'name': 'JAY-Z',\n",
       "   'type': 'artist',\n",
       "   'uri': 'spotify:artist:3nFkdlSjzX9mRTtwJOzDYB'}],\n",
       " 'available_markets': ['CA', 'US'],\n",
       " 'disc_number': 1,\n",
       " 'duration_ms': 275986,\n",
       " 'explicit': False,\n",
       " 'external_ids': {'isrc': 'USUM70736771'},\n",
       " 'external_urls': {'spotify': 'https://open.spotify.com/track/2yPoXCs7BSIUrucMdK5PzV'},\n",
       " 'href': 'https://api.spotify.com/v1/tracks/2yPoXCs7BSIUrucMdK5PzV',\n",
       " 'id': '2yPoXCs7BSIUrucMdK5PzV',\n",
       " 'is_local': False,\n",
       " 'name': 'Umbrella',\n",
       " 'popularity': 74,\n",
       " 'preview_url': None,\n",
       " 'track_number': 1,\n",
       " 'type': 'track',\n",
       " 'uri': 'spotify:track:2yPoXCs7BSIUrucMdK5PzV'}"
      ]
     },
     "execution_count": 21,
     "metadata": {},
     "output_type": "execute_result"
    }
   ],
   "source": [
    "# Get the artist's URI\n",
    "artist_uri = results['artists']['items'][0]['uri']\n",
    "# Get songs\n",
    "songs = sp.artist_albums(artist_id=artist_uri, album_type='album')\n",
    "\n",
    "song_info = sp.search(q='Umbrella', type='track')\n",
    "song_info['tracks']['items'][0]\n",
    "\n",
    "# Get popularity\n",
    "popularity = song_info['popularity']"
   ]
  },
  {
   "cell_type": "code",
   "execution_count": 31,
   "metadata": {},
   "outputs": [
    {
     "name": "stdout",
     "output_type": "stream",
     "text": [
      "Camisa transpirada, melena mojada\n",
      "Me puse los zapatos, me pegué una perfumada\n",
      "Me voy a la bailanta a tomarme unas cuantas\n",
      "Soy el rey de la noche y hoy salgo con la banda\n",
      "Voy con los muchacho', pero están medio lento'\n",
      "Yo en la cacería, siempre enfocado, atento\n",
      "Hay una morocha sola, se está moviendo\n",
      "Quiere un cuartetazo violento\n",
      "\n",
      "Que alguien saque a bailar a la morocha\n",
      "Que se muere de ganas\n",
      "No puede hacer todo el campeón\n",
      "Quiero que juegue la banda\n",
      "Que alguien saque a bailar a la morocha\n",
      "Que se muere de ganas\n",
      "No puede hacer todo el campeón\n",
      "Quiero que juegue la banda\n",
      "\n",
      "A mí me gusta' la' morocha' bien bonitas\n",
      "Y mi amigo busca una rubiecita\n",
      "Ella quiere un cuartetazo violento\n",
      "Y si ponen reguetón que baje lento\n",
      "Lento, lento, pero siempre atento\n",
      "Me gusta que te guste pero cero sentimientos\n",
      "Mi amor, yo soy así, no quiero meter cuento\n",
      "Pero si te digo que no te entro, yo te miento\n",
      "Baby, yo soy el hombre que tu cuerpo necesita\n",
      "Yo soy el que sabe que tenés ganitas\n",
      "De que te saque a tirar unos paso'\n",
      "Vamos paso a paso, me tomo un par de vaso'\n",
      "\n",
      "Y saco, saco a bailar a la morocha que se muere de ganas\n",
      "No puede hacer todo el campeón\n",
      "Quiero que juegue la banda\n",
      "Y que alguien saque a bailar a la morocha\n",
      "Que se muere de ganas\n",
      "No puede hacer todo el campeón\n",
      "Quiero que juegue la banda\n",
      "\n",
      "L-U-C-K\n",
      "Phontana\n",
      "Dimelo Renzo\n",
      "BM\n",
      "Rompiendo\n"
     ]
    }
   ],
   "source": [
    "import requests\n",
    "import re\n",
    "CLEANR = re.compile('<.*?>')\n",
    "req = requests.get('https://www.lyrics.com/lyrics/La%20Morocha%20Luck%20Ra%20Featuring%20BM')\n",
    "\n",
    "html_text = req.text\n",
    "URL = 'https://www.lyrics.com'+html_text.split('<p class=\"lyric-meta-title\"><a href=\"')[1].split('>')[0]\n",
    "\n",
    "START_CUT = '<pre id=\"lyric-body-text\" class=\"lyric-body\" dir=\"ltr\" data-lang=\"en\">'\n",
    "\n",
    "END_CUT = '</pre>'\n",
    "\n",
    "req2 = requests.get(URL)\n",
    "lyrics = req2.text.split(START_CUT)[1].split(END_CUT)[0]\n",
    "print(re.sub(CLEANR, '', lyrics))"
   ]
  }
 ],
 "metadata": {
  "kernelspec": {
   "display_name": "Python 3",
   "language": "python",
   "name": "python3"
  },
  "language_info": {
   "codemirror_mode": {
    "name": "ipython",
    "version": 3
   },
   "file_extension": ".py",
   "mimetype": "text/x-python",
   "name": "python",
   "nbconvert_exporter": "python",
   "pygments_lexer": "ipython3",
   "version": "3.9.6"
  },
  "orig_nbformat": 4
 },
 "nbformat": 4,
 "nbformat_minor": 2
}
