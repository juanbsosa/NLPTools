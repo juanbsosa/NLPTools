{
 "cells": [
  {
   "cell_type": "code",
   "execution_count": 54,
   "metadata": {},
   "outputs": [],
   "source": [
    "# Read info about YouTube Data API\n",
    "# https://developers.google.com/youtube/v3/quickstart/python\n",
    "# Channel -> channel ID -> videos -> subtitles\n",
    "\n",
    "from googleapiclient.discovery import build\n",
    "api_key = ''\n"
   ]
  },
  {
   "cell_type": "code",
   "execution_count": 44,
   "metadata": {},
   "outputs": [
    {
     "name": "stdout",
     "output_type": "stream",
     "text": [
      "{'kind': 'youtube#searchListResponse', 'etag': 'vIQNMjZHiYslFPTSsjbtTM0NF_U', 'nextPageToken': 'CAUQAA', 'regionCode': 'GB', 'pageInfo': {'totalResults': 5553, 'resultsPerPage': 5}, 'items': [{'kind': 'youtube#searchResult', 'etag': 'TfzcQJjEt-6CC1FAqg4L76t4NbM', 'id': {'kind': 'youtube#channel', 'channelId': 'UCYO_jab_esuFRV4b17AJtAw'}, 'snippet': {'publishedAt': '2015-03-03T23:11:55Z', 'channelId': 'UCYO_jab_esuFRV4b17AJtAw', 'title': '3Blue1Brown', 'description': '3Blue1Brown, by Grant Sanderson, is some combination of math and entertainment, depending on your disposition. The goal is ...', 'thumbnails': {'default': {'url': 'https://yt3.ggpht.com/ytc/APkrFKa78JclPNY9Oh8Fy2b4v7PMDOKFcZcbKHum1tkd8A=s88-c-k-c0xffffffff-no-rj-mo'}, 'medium': {'url': 'https://yt3.ggpht.com/ytc/APkrFKa78JclPNY9Oh8Fy2b4v7PMDOKFcZcbKHum1tkd8A=s240-c-k-c0xffffffff-no-rj-mo'}, 'high': {'url': 'https://yt3.ggpht.com/ytc/APkrFKa78JclPNY9Oh8Fy2b4v7PMDOKFcZcbKHum1tkd8A=s800-c-k-c0xffffffff-no-rj-mo'}}, 'channelTitle': '3Blue1Brown', 'liveBroadcastContent': 'none', 'publishTime': '2015-03-03T23:11:55Z'}}, {'kind': 'youtube#searchResult', 'etag': '9pgLbt1DMvG-owrE8f-mz04bpHY', 'id': {'kind': 'youtube#video', 'videoId': 'QCX62YJCmGk'}, 'snippet': {'publishedAt': '2023-09-01T13:13:14Z', 'channelId': 'UCYO_jab_esuFRV4b17AJtAw', 'title': 'This demo surprised me (a lot) | Barber pole, part 1', 'description': 'Shining polarized light into sugar water reveals diagonal stripes of color. Why? Next video: https://youtu.be/aXRTczANuIs Steve ...', 'thumbnails': {'default': {'url': 'https://i.ytimg.com/vi/QCX62YJCmGk/default.jpg', 'width': 120, 'height': 90}, 'medium': {'url': 'https://i.ytimg.com/vi/QCX62YJCmGk/mqdefault.jpg', 'width': 320, 'height': 180}, 'high': {'url': 'https://i.ytimg.com/vi/QCX62YJCmGk/hqdefault.jpg', 'width': 480, 'height': 360}}, 'channelTitle': '3Blue1Brown', 'liveBroadcastContent': 'none', 'publishTime': '2023-09-01T13:13:14Z'}}, {'kind': 'youtube#searchResult', 'etag': 'NuH3E3MIAHvdzMJXK1fFBxTVIT8', 'id': {'kind': 'youtube#video', 'videoId': 'HEfHFsfGXjs'}, 'snippet': {'publishedAt': '2019-01-13T16:12:47Z', 'channelId': 'UCYO_jab_esuFRV4b17AJtAw', 'title': 'The most unexpected answer to a counting puzzle', 'description': 'Solution: https://youtu.be/jsYwFizhncE Even prettier solution: https://youtu.be/brU5yLm9DZM Help fund future projects: ...', 'thumbnails': {'default': {'url': 'https://i.ytimg.com/vi/HEfHFsfGXjs/default.jpg', 'width': 120, 'height': 90}, 'medium': {'url': 'https://i.ytimg.com/vi/HEfHFsfGXjs/mqdefault.jpg', 'width': 320, 'height': 180}, 'high': {'url': 'https://i.ytimg.com/vi/HEfHFsfGXjs/hqdefault.jpg', 'width': 480, 'height': 360}}, 'channelTitle': '3Blue1Brown', 'liveBroadcastContent': 'none', 'publishTime': '2019-01-13T16:12:47Z'}}, {'kind': 'youtube#searchResult', 'etag': 'Ml9lhPsYuBiH1Q7MP2xQy_Iz2dg', 'id': {'kind': 'youtube#playlist', 'playlistId': 'PLZHQObOWTQDPD3MizzM2xVFitgF8hE_ab'}, 'snippet': {'publishedAt': '2016-08-04T19:58:59Z', 'channelId': 'UCYO_jab_esuFRV4b17AJtAw', 'title': 'Essence of linear algebra', 'description': 'A free course offering the core concept of linear algebra with a visuals-first approach.', 'thumbnails': {'default': {'url': 'https://i.ytimg.com/vi/fNk_zzaMoSs/default.jpg', 'width': 120, 'height': 90}, 'medium': {'url': 'https://i.ytimg.com/vi/fNk_zzaMoSs/mqdefault.jpg', 'width': 320, 'height': 180}, 'high': {'url': 'https://i.ytimg.com/vi/fNk_zzaMoSs/hqdefault.jpg', 'width': 480, 'height': 360}}, 'channelTitle': '3Blue1Brown', 'liveBroadcastContent': 'none', 'publishTime': '2016-08-04T19:58:59Z'}}, {'kind': 'youtube#searchResult', 'etag': 'DeGnbEqu6Yyj7C-VnQquVY8j_ns', 'id': {'kind': 'youtube#video', 'videoId': 'aXRTczANuIs'}, 'snippet': {'publishedAt': '2023-09-01T13:39:37Z', 'channelId': 'UCYO_jab_esuFRV4b17AJtAw', 'title': 'This equation explains (nearly) all of optics | Barber pole, part 2', 'description': 'Explaining the barber pole effect from the last video: https://youtu.be/QCX62YJCmGk Help fund future projects: ...', 'thumbnails': {'default': {'url': 'https://i.ytimg.com/vi/aXRTczANuIs/default.jpg', 'width': 120, 'height': 90}, 'medium': {'url': 'https://i.ytimg.com/vi/aXRTczANuIs/mqdefault.jpg', 'width': 320, 'height': 180}, 'high': {'url': 'https://i.ytimg.com/vi/aXRTczANuIs/hqdefault.jpg', 'width': 480, 'height': 360}}, 'channelTitle': '3Blue1Brown', 'liveBroadcastContent': 'none', 'publishTime': '2023-09-01T13:39:37Z'}}]}\n"
     ]
    }
   ],
   "source": [
    "import requests\n",
    "CHANNEL_HANDLE = '@3blue1brown'\n",
    "req = requests.get('https://youtube.googleapis.com/youtube/v3/search?part=snippet&q=' + CHANNEL_HANDLE +\n",
    "                   '&type=cgannel&key=' + api_key)\n",
    "CHANNEL = req.json()\n",
    "print(CHANNEL)"
   ]
  },
  {
   "cell_type": "code",
   "execution_count": 45,
   "metadata": {},
   "outputs": [
    {
     "name": "stdout",
     "output_type": "stream",
     "text": [
      "UCYO_jab_esuFRV4b17AJtAw\n"
     ]
    }
   ],
   "source": [
    "# We got a JSON, now retrieve the relevant information\n",
    "\n",
    "# Channel ID\n",
    "CHANNEL_ID = CHANNEL['items'][0]['id']['channelId']\n",
    "print(CHANNEL_ID)"
   ]
  },
  {
   "cell_type": "code",
   "execution_count": 46,
   "metadata": {},
   "outputs": [
    {
     "name": "stdout",
     "output_type": "stream",
     "text": [
      "['https://www.youtube.com/watch?v=aXRTczANuIs', 'https://www.youtube.com/watch?v=QCX62YJCmGk', 'https://www.youtube.com/watch?v=d_qvLDhkg00', 'https://www.youtube.com/watch?v=YtkIWDE36qU', 'https://www.youtube.com/watch?v=NOCsdhzo6Jg', 'https://www.youtube.com/watch?v=IaSGqQa5O-M', 'https://www.youtube.com/watch?v=cy8r7WSuT1I', 'https://www.youtube.com/watch?v=zeJD6dqJ5lo', 'https://www.youtube.com/watch?v=KuXjwB4LzSA', 'https://www.youtube.com/watch?v=851U557j6HE', 'https://www.youtube.com/watch?v=cDofhN-RJqg', 'https://www.youtube.com/watch?v=VYQVlVoWoPY', 'https://www.youtube.com/watch?v=hZuYICAEN9Y', 'https://www.youtube.com/watch?v=bOXCLR3Wric', 'https://www.youtube.com/watch?v=fRed0Xmc2Wg', 'https://www.youtube.com/watch?v=v68zYyaEmEA', 'https://www.youtube.com/watch?v=ltLUadnCyi0', 'https://www.youtube.com/watch?v=F3Qixy-r_rQ', 'https://www.youtube.com/watch?v=LqbZpur38nw', 'https://www.youtube.com/watch?v=-RdOwhmqP5s', 'https://www.youtube.com/watch?v=ojjzXyQCzso', 'https://www.youtube.com/watch?v=e50Bj7jn9IQ', 'https://www.youtube.com/watch?v=O85OWBJ2ayo', 'https://www.youtube.com/watch?v=lG4VkPoG3ko', 'https://www.youtube.com/watch?v=b3NxrZOu_CE', 'https://www.youtube.com/watch?v=X8jsijhllIA', 'https://www.youtube.com/watch?v=mH0oCDa74tE', 'https://www.youtube.com/watch?v=wTJI_WuZSwE', 'https://www.youtube.com/watch?v=D__UaR5MQao', 'https://www.youtube.com/watch?v=ppWPuXsnf1Q', 'https://www.youtube.com/watch?v=ZA4JkHKZM50', 'https://www.youtube.com/watch?v=gxAaO2rsdIs', 'https://www.youtube.com/watch?v=8idr1WZ1A7Q', 'https://www.youtube.com/watch?v=Kas0tIxDvrg', 'https://www.youtube.com/watch?v=U_85TaXbeIo', 'https://www.youtube.com/watch?v=HZGCoVF3YvM', 'https://www.youtube.com/watch?v=Agbh95KyWxY', 'https://www.youtube.com/watch?v=EK32jo7i5LQ', 'https://www.youtube.com/watch?v=M64HUIJFTZM', 'https://www.youtube.com/watch?v=v0YEaeIClKY', 'https://www.youtube.com/watch?v=-qgreAUpPwM', 'https://www.youtube.com/watch?v=r6sGWTCMz2k', 'https://www.youtube.com/watch?v=ToIXSwZ1pJU', 'https://www.youtube.com/watch?v=ly4S0oi3Yz8', 'https://www.youtube.com/watch?v=p_di4Zn4wz4', 'https://www.youtube.com/watch?v=jBsC34PxzoM', 'https://www.youtube.com/watch?v=brU5yLm9DZM', 'https://www.youtube.com/watch?v=jsYwFizhncE', 'https://www.youtube.com/watch?v=HEfHFsfGXjs', 'https://www.youtube.com/watch?v=GNcFjFmqEc8', 'https://www.youtube.com/watch?v=yuVqxCSsE7c', 'https://www.youtube.com/watch?v=_UoTTq651dE', 'https://www.youtube.com/watch?v=zjMuIxRvygQ', 'https://www.youtube.com/watch?v=d4EgbgTm0Bg', 'https://www.youtube.com/watch?v=Qe6o9j4IjTo', 'https://www.youtube.com/watch?v=pQa_tWZmlGs', 'https://www.youtube.com/watch?v=VcgJro0sTiM', 'https://www.youtube.com/watch?v=rB83DpBJQsE', 'https://www.youtube.com/watch?v=CfW845LNObM', 'https://www.youtube.com/watch?v=8GPy_UMV-08', 'https://www.youtube.com/watch?v=b7FxPsqfkOY', 'https://www.youtube.com/watch?v=bcPTiiiYDs8', 'https://www.youtube.com/watch?v=d-o3eB9sfls', 'https://www.youtube.com/watch?v=MBnnXbOM5S4', 'https://www.youtube.com/watch?v=spUNpyF58BY', 'https://www.youtube.com/watch?v=VvCytJvd4H0', 'https://www.youtube.com/watch?v=liL66CApESk', 'https://www.youtube.com/watch?v=OkmNXy7er84', 'https://www.youtube.com/watch?v=tIeHLnjs5U8', 'https://www.youtube.com/watch?v=Ilg3gGewQ5U', 'https://www.youtube.com/watch?v=IHZwWFHWa-w', 'https://www.youtube.com/watch?v=aircAruvnKk', 'https://www.youtube.com/watch?v=MzRCDLre1b4', 'https://www.youtube.com/watch?v=zwAD6dRSVyI', 'https://www.youtube.com/watch?v=3s7h2MHQtxc', 'https://www.youtube.com/watch?v=S9JGmA5_unY', 'https://www.youtube.com/watch?v=bBC-nXj3Ng4', 'https://www.youtube.com/watch?v=QJYmyhnaaek', 'https://www.youtube.com/watch?v=NaL_Cb42WyY', 'https://www.youtube.com/watch?v=3d6DsjIBzJ4', 'https://www.youtube.com/watch?v=BLkz5LGWihw', 'https://www.youtube.com/watch?v=FnJqaIESC2s', 'https://www.youtube.com/watch?v=rfG8ce4nNh0', 'https://www.youtube.com/watch?v=kfF40MiS7zA', 'https://www.youtube.com/watch?v=qb40J4N1fa4', 'https://www.youtube.com/watch?v=m2MIpDrF7Es', 'https://www.youtube.com/watch?v=YG15m2VwSjA', 'https://www.youtube.com/watch?v=S0_qX4VJhMQ', 'https://www.youtube.com/watch?v=9vKqVkMQHKk', 'https://www.youtube.com/watch?v=WUvTyaaNkzM', 'https://www.youtube.com/watch?v=mvmuCPvRoWQ', 'https://www.youtube.com/watch?v=gB9n2gHsHN4', 'https://www.youtube.com/watch?v=IxNb1WG_Ido', 'https://www.youtube.com/watch?v=sD0NjbwqlYw', 'https://www.youtube.com/watch?v=bdMfjfT0lKk', 'https://www.youtube.com/watch?v=2SUvWfNJSsM', 'https://www.youtube.com/watch?v=R7p-nPg8t_g', 'https://www.youtube.com/watch?v=AmgkSdhK4K8', 'https://www.youtube.com/watch?v=TgKwz5Ikpc8', 'https://www.youtube.com/watch?v=PFDu9oVAE-g', 'https://www.youtube.com/watch?v=P2LTAUO1TdA', 'https://www.youtube.com/watch?v=eu6i7WJeinw', 'https://www.youtube.com/watch?v=BaM7OCEm3G0', 'https://www.youtube.com/watch?v=LyGKycYT2v0', 'https://www.youtube.com/watch?v=v8VSDg_WQlA', 'https://www.youtube.com/watch?v=uQhTuRlWMxw', 'https://www.youtube.com/watch?v=Ip3X9LOh2dk', 'https://www.youtube.com/watch?v=rHLEWRxRGiM', 'https://www.youtube.com/watch?v=XkY2DOUCWMU', 'https://www.youtube.com/watch?v=kYB8IZa5AuE', 'https://www.youtube.com/watch?v=k7RM-ot2NWY', 'https://www.youtube.com/watch?v=fNk_zzaMoSs', 'https://www.youtube.com/watch?v=kjBOesZCoqc', 'https://www.youtube.com/watch?v=sULa9Lc4pck', 'https://www.youtube.com/watch?v=Iq1a_KJTWJ8', 'https://www.youtube.com/watch?v=Cld0p3a43fU', 'https://www.youtube.com/watch?v=RU0wScIj36o', 'https://www.youtube.com/watch?v=cyW5z-M2yzw', 'https://www.youtube.com/watch?v=1SMmc9gQmHQ', 'https://www.youtube.com/watch?v=XFDM1ip5HdU', 'https://www.youtube.com/watch?v=-9OUyo8NFZg', 'https://www.youtube.com/watch?v=84hEmGHw3J8', 'https://www.youtube.com/watch?v=zLzLxVeqdQg', 'https://www.youtube.com/watch?v=F_0yfvm0UoU']\n"
     ]
    }
   ],
   "source": [
    "# Get the URL for all videos in a channel\n",
    "import scrapetube\n",
    "videos_gen = scrapetube.get_channel(CHANNEL_ID)\n",
    "videos=[]\n",
    "for video in videos_gen:\n",
    "    videos.append('https://www.youtube.com/watch?v=' + str(video['videoId']))\n",
    "\n",
    "print(videos)"
   ]
  },
  {
   "cell_type": "code",
   "execution_count": 52,
   "metadata": {},
   "outputs": [
    {
     "name": "stdout",
     "output_type": "stream",
     "text": [
      "['In the last video, you and I looked at this\\ndemo here where we shine linearly polarized', 'light through a tube full of sugar water and\\nwe saw how it rather mysteriously results', 'in these coloured diagonal stripes.', 'There I walked through the general outline\\nfor an explanation keeping track of what questions', 'still need to be answered, namely; why does\\nsugar water twist the polarization direction', 'of light?', 'Why does that twisting rate depend on the\\ncolour of the light and why even if you understand', 'that this twist is happening, would you see\\nany evidence of it when viewing the tube from', 'the side with no additional polarizing filters?', \"Here I'd like to begin with the very fundamental\\nidea of what light is and show how the answers\", 'to these questions can emerge from an extremely\\nminimal set of assumptions.', 'In some sense, the fundamental question of\\nelectricity and magnetism is how the position', 'and motion of one charged particle influences\\nthat of another.', 'For example, one of the first things you learn,\\nsay in a high school physics class is that', 'charges with the same sign tend to repel each\\nother.', 'And the strength of this force depends a lot\\non the distance between them.', 'If your charges are close, that repulsive\\nforce is very strong, but it decays very rapidly', 'as these particles go away from each other.', \"Specificaly, here's how you might see this\\nwritten down as an equation known as Coulomb's\", 'law.', \"The force is proportional to the charge of\\nboth of the particles where it's common to\", 'use the letter Q. There are some constants\\nin there which for our purposes we can just', \"think of as one big proportionality constant\\nand the important fact is that you've got\", 'this 1 divided by r^2 term where r is the\\ndistance between them.', 'So, for example, if the distance between them\\nincreases by a factor of three, the force', \"that they're applying to each other goes down\\nby a factor of nine.\", 'Another way you might see a law like this\\nwritten down is to focus on just one charged', 'particle and then say for every point in space,\\nif there was a second charge there, what force', 'would this first charge be applying to that\\nsecond one?', \"And instead of describing a force per se,\\nyou might see this written describing what's\", 'known as the \"Electric Field\", which is just\\na way of saying what force would be applied', 'to a unit charge and in this context the word\\n\"Field\" means there is a value associated', 'with every single point in space.', 'So, the way I have it written here, it depends\\non a little vector R which would be the vector', 'from our charge to a given point in space\\nand the direction of this field at all points', 'is in the same direction as R.', \"I bring up Coulomb’s law to emphasize that\\nit's not the full story.\", 'There are other ways that charges influence\\neach other.', \"For example, here's a phenomenon that this\\nlaw alone could not explain.\", 'If you wiggle one charge up and down, then\\nafter a little bit of a delay, a second charge', 'some distance to its right will be induced\\nto wiggle up and down as well.', 'We can write down a second law, which you\\nmight think of as a correction term to be', \"added to Coulomb's law that describes what's\\ngoing on here.\", 'Suppose at some point in time, T 0, that first\\ncharge is accelerating.', \"Then I'll let time play forward but leave\\non the screen a kind of ghost of that particle\", 'indicating where it was and how it was accelerating\\nat this time T 0.', 'After a certain delay, this causes a force\\non the second charge and the equation describing', 'force looks something like this...', \"So again, it's proportional to the charge\\nof both of the particles.\", \"And once more, a common way to write it involves\\nthis pile of constants that you don't really\", 'need to worry about.', 'The important factor I want you to notice\\nis how the force also depends on the distance', 'between the particles.', 'But instead of decaying in proportion to R\\nsquared, it only decays in proportion to R.', \"So, over long distances, this is the force\\nthat dominates and Coulomb's law is negligible.\", \"And then finally, it depends on the acceleration\\nof that first particle but it's not the acceleration\", \"of that particle at the current time, it's\\nwhatever that acceleration was at some time\", 'in the past.', 'How far in the past depends on the distance\\nbetween the particles and the speed of light', \"denoted with C. The way to think about it\\nis that any form of influence can't propagate\", 'any faster than this speed C.', 'In fact, a more accurate description of Coulomb’s\\nlaw would also involve a delay term like this...', 'Again, the intuitive way to read this equation\\nis that wiggling a charge in one location', 'after some delay causes a wiggle to a second\\ncharge in another location.', 'And actually the way I have it written right\\nnow is a little bit wrong - instead of the', 'acceleration vector here, I should really\\nbe writing something like a perp indicating', 'the component of that acceleration vector\\nwhich is perpendicular to the line drawn between', 'the two charges.', 'In other words, when you wiggle that first\\ncharge, the direction that the second charge', 'wiggles is always perpendicular to line between\\nthem and the amount that it wiggles gets weaker', 'and weaker when that line between them is\\nmore lined up with the initial acceleration.', 'As before, this is something you might see\\nwritten down in a way that describes a component', 'of the electric field caused by just one charge.', 'Again, that means what force would be applied\\nto a second charge at all possible different', 'points in space.', 'This component of the field is only ever non\\nzero when our first charge is moving somehow', '- when it has an acceleration vector on it.', 'And because of this delay term, the effects\\non this field tend to radiate away from the', 'charge.', 'This is why I\\'m writing it down with the subscript\\n\"rad\".', 'This is the component of the electric field\\nthat will radiate away from a given charge.', 'For instance, when the charge is oscillating\\nup and down, you get these propagating waves', \"and for many of the vector fields, I'll be\\nshowing the intensity of the field as illustrated\", 'with the opacity of each little vector.', 'This radiating influence is light.', 'Or more generally, electromagnetic radiation,\\nincluding things like radio waves and X-rays', 'and all that good stuff.', 'As a side note, you sometimes see this propagation\\ndescribed a very different way that puts the', 'fields front and center using what are known\\nas \"Maxwell\\'s Equations\".', 'For our purposes, I want to focus just on\\nthis one law and show just how far it can', 'take us when it comes to intuitions for light.', \"For the animations I'm about to show, all\\nI've really done is encoded in this one law\", 'which tells us what should this component\\nof the electric fields be at every point in', 'space as determined by the history of accelerations\\nof a particular charge.', 'For example, if I set that charge oscillating\\nup and down in the Z direction and illustrate', 'this component of the electric field everywhere\\non the XY plane, you see these circular propagations', 'of equal strength in all directions.', \"It's a little easier to think about if we\\nfocus on just one axis like the X axis.\", 'And at first when I made this animation, I\\nassumed that there was some kind of bug because', 'near the charge it just looks crooked and\\nwrong.', 'But when you think about it, this is actually\\nwhat you should expect.', 'Because, remember, each one of these vectors\\nis supposed to be perpendicular to the line', 'drawn between that point and where the charge\\nWAS at some point in the past.', 'At points that are far enough away from the\\ncharge, which is where this component of the', 'field is what dominates anyway, the wiggling\\nin the field is essentially parallel to the', 'wiggling in the charge.', 'Which is why when we think about light waves,\\nwe are safe to think about the wiggling direction', 'as being perpendicular to the propagation\\ndirection.', 'Like I said, this propagation for just one\\ncharge is equally strong in all of the directions', 'perpendicular to its wiggling and really I\\nshould emphasize that the propagation does', 'happen in all directions of three dimensional\\nspace.', \"It's maybe a little busy to try to illustrate\\nthe full three dimensional vector field on\", 'screen like this.', \"So, it's clarifying if we just focus on say\\nthe XZ plane.\", 'Notice how the waves here are strongest in\\nthe X direction.', 'But it still does propagate in all other directions.', \"It's just that that propagation gets weaker\\nin directions that are more aligned with the\", 'original wiggling.', \"At the extreme, the only place where there's\\nno propagation is in the Z axis.\", 'Because our law has this 1 divided by R in\\nit, the strength of the wave caused by just', 'one particle does decay as you go further\\naway in proportion to 1 over R. But notice', 'what happens if I take a whole row of charges,\\nsay oriented along the Y axis and I have them', 'all start wiggling up and down in the Z direction\\nand I illustrate the combined effects that', 'all of them have on this component of the\\nelectric field.', 'The effects of all these charges interfere\\ndeconstructively along the Y direction but', 'they interfere constructively along the X\\ndirection.', 'This is what it looks like for a beam of light\\nto be concentrated along just one dimension.', 'So, if you were to focus on the field just\\nalong the X axis, instead of decaying in proportion', 'to 1 over R, this combined effect decays much\\nmore gently.', 'In the extreme, you can get something arbitrarily\\nclose to those pure sine wave propagations', 'we were illustrating earlier if at some distance\\naway you have a large number of charges oscillating', 'in sync with each other like this.', \"One thing that's worth emphasizing when you\\nsee light illustrated with a sine wave like\", \"this is that even that wave is being drawn\\nin two or three dimensions, it's only describing\", 'the electric field along a one dimensional\\nline, namely the base of all those vectors.', \"It's just that to draw the vectors, you have\\nto venture off of that line.\", 'Great, so one of the last important things\\nto highlight before we get back to the sugar', 'water is polarization.', \"And everything I've been showing, the driving\\ncharge is just oscillating along a single\", 'direction, like the Z axis, and this causes\\nlinearly polarized light.', \"But it doesn't have to happen like that.\", 'For example, if I set the charge rotating\\nin a little circle along the YZ plane, meaning', 'its acceleration vector is also rotating in\\na little circle, notice what the field looks', 'like.', 'This is known aptly enough as circularly polarized\\nlight.', \"Honestly, it's easiest to think about for\\njust one point of the electric field.\", 'What it means for light to be circularly polarized\\nis that at that point, the electric field', 'vector is just rotating in a circle.', 'People often find circular polarization a\\nlittle confusing and I suspect part of the', \"reason for that is that it's hard to illustrate\\nwith static diagram, but also it's a little\", 'confusing when you try to think about the\\nfull electric field.', \"For example, here's what the field looks like\\non the XY plane when I set that little charge\", 'rotating in a circle.', \"It's certainly very beautiful, I could look\\nat this all day but you can understand why\", 'it might feel a little confusing.', \"The very last thing I'll mention is that while\\neverything here is a classical description\", 'of light, the important points still hold\\nup in quantum mechanics.', \"You still have propagating waves, there's\\nstill polarization that can be either linear\", 'or circular.', \"The main difference with quantum mechanics\\nis that the energy in this wave doesn't scale\", 'up and down continuously like you might expect,\\nit comes in discrete little steps.', 'I have another video goes into more detail\\nbut for our purposes, thinking about it classically', 'is fine.', \"Part of the reason I wanted to go through\\nthat is because, frankly it's just very fun\", 'to animate and I like an excuse for a fundamental\\nlesson.', \"But now let's turn back to our demo and see\\nhow we can build up an intuition for some\", 'of our key questions, starting from this very\\nbasic premise that shaking a charge in one', 'location causes a shake to another charge\\na little bit later.', \"And let's start by actually skipping ahead\\nto question number three; Why do we see the\", 'diagonal stripes?', 'To think about this, you need to imagine an\\nobserver to the side of the tube and then', 'for a particular pure colour, say red, if\\nthe observer looks in the tube and sees that', \"colour, it's because light of that colour\\nhas bounced off something at that point in\", 'the tube and then propagated towards the eye\\nof the observer.', 'Sometimes when people talk about light bouncing\\noff of things, the implied mental image is', 'something like a projectile ricocheting off\\nof some object heading off in some random', 'direction.', 'But the better mental image to hold in your\\nmind is that when the propagating light waves', 'caused by some wiggling charge reach some\\nsecond charge causing it to wiggle, that secondary', 'wiggle results in its own propagation.', 'And for the animation on screen, that propagation\\ngoes back to the first charge which itself', 'causes a propagation towards the second and\\nthis is what it looks like in a very simplified', 'situation for light to bounce back and forth\\nbetween 2 charges.', 'If you have some concentrated beam of polarized\\nlight interacting with some charge causing', 'it to wiggle up and down, then these resulting\\nsecond order propagations are most strong', 'in the directions perpendicular to the direction\\nof polarization.', 'In some sense, you could think of light as\\nbouncing off of that charge but the important', \"point is that it doesn't bounce in all directions\\nequally.\", \"It's strongest perpendicular to the wiggle\\ndirection but gets weaker in all of the other\", 'directions.', 'So, think about our setup.', 'And for a particular frequency of light, how\\nlikely it is that an observer looking at a', 'particular point in the tube will see that\\nlight.', 'Again, the key phenomenon with sugar water,\\nwhich we have yet to explain, is that the', 'polarization direction is slowly getting twisted\\nas it goes down the tube.', 'So, suppose the observer was looking at a\\npoint like this one where the polarization', 'direction happens to be straight up and down,\\nthen the second order propagations resulting', 'from wiggling charges at that point are most\\nstrong along the plane where the observer', 'is.', 'So the amount of red that they see at that\\npoint would look stronger.', 'By contrast, if they were looking at a different\\npoint in the tube like this one where the', 'wiggling direction is closer to being parallel\\nto the line of sight, then the direction where', 'the scattering is strongest is not at all\\naligned with the observer and the amount of', 'red they see is only going to be very weak.', 'And looking at our actual physical setup,\\nif we first pass the light through a filter', 'showing only the red, we see exactly this\\neffect in action.', 'As you scan your eyes along the tube, the\\nintensity of red that you see goes from being', \"high to being low where it's almost black,\\nback to being high again.\", 'As an analogy, imagine there was a ribbon\\ngoing down the tube always aligned with the', 'polarization direction for this color, then\\nputting yourself in the shoes of the observer,', \"when you look at points where the ribbon appears\\nvery thin, you're going to see very little\", 'red light.', \"Whereas if you scan your eyes over the points\\nwhere the ribbon appears thicker, you're going\", 'to see more red light.', \"One thing that's nice about this is that if\\nwe try it for various different colors, you\", 'can actually see how the twisting rates are\\ndifferent for each one of the colors.', 'Notice with red light, the distance between\\nwhere it appears brightest and where it appears', 'darkest is relatively long.', 'Whereas if you look down the colours of the\\nrainbow, that distance between the brightest', 'point and the darkest point gets lower and\\nlower.', \"So, what you're seeing in effect is how red\\nlight twists slowly whereas light waves with\", 'higher frequencies get twisted more aggressively.', 'But still, you might wonder why the boundaries\\nbetween light and dark points appear diagonal.', 'Why is it that in addition to having variation\\nas you scan your eyes from left to right,', \"there's also variation as you scan your eyes\\nfrom the top of the tube to the bottom.\", \"This has less to do with what's going on in\\nthe tube and more to do with a matter of perspective.\", 'Take a moment to think about many different\\nparallel beams of light ranging from the top', 'of the tube to the bottom.', 'At the beginning, all of these light waves\\nare wiggling up and down and as you pass through', 'the tube and the effects of the sugar water\\nsomehow twists these directions because they', 'are all passing through the same amount of\\nsugar, they are getting twisted by the same', 'amounts.', 'So, at all points, the polarization of these\\nwaves are parallel to each other.', 'If you are the observer and you look at the\\ntop most point here, its wiggling direction', 'is essentially parallel to the line of sight.', 'So the light scattering from that point is\\nbasically not going to reach your eyes at', 'all.', 'It should appear black.', 'But if you scan your eyes down the tube, the\\nangle between the line of sight and the wiggling', 'direction changes and so there will be at\\nleast some component of red light scattering', 'towards the eye.', 'So, as you scan your eyes from top to bottom,\\nthe amount of a particular color you see might', 'vary, say from dark to light.', 'The full demo that has white light is basically\\na combination of all these pure colour patterns', 'that go from light to dark to light with diagonal\\nboundaries between the intense points and', 'the weak points.', 'Hence why you see diagonal boundaries between\\nthe colours inside the tube.', \"And now at last let's turn to the heart of\\nthe matter and try to explain why interactions\", 'with sugar would make light twist like this\\nin the first place.', \"It's related to the idea that light seems\\nto slow down as it passes through a given\", 'medium.', 'For example, if you look at the crests of\\na light wave as it goes into water, the crests', 'through the water are travelling about 1.33\\ntimes slower than the crest of that wave would', 'travel in a vacuum.', 'This number is what\\'s called the \"Index of\\nRefraction\" for water.', \"In a bit, what I'd like to show is how this\\nindex of refraction can be explained by analyzing\", 'how the initial light wave shakes all the\\ncharges in the material and how the resulting', 'second order propagations super impose with\\nthat original light wave.', \"For right now I'll just say that the interactions\\nwith each layer of the material ends up having\", 'the effect of slightly shifting back the phase\\nof the wave.', 'And on the whole, this gives the overall appearance\\nthat that wave moves slower as it passes through', 'the material.', \"Skipping ahead to what's going on with sugar,\\nthe relevant property of sucrose here is that\", \"it's what's called a Chiral molecule.\", \"Meaning it's fundamentally different from\\nits mirror image.\", 'You could never reorient it in space to become\\nidentical to its mirror image.', \"It's like a left hand or a right hand.\", 'Or another much simpler example of a chiral\\nshape is a spiral.', 'If I take this right handed spiral, then its\\nmirror image is a left handed spiral and no', 'matter how you try to rotate and reorient\\nthat first one, it will never become identical', 'to the second.', \"What's going on then is that the presence\\nof a chiral molecule in the water like this\", 'introduces an asymmetry when it comes to interactions\\nwith light, specifically circularly polarized', 'light.', 'It turns out that the amount this chiral molecule\\nslows down, say left handed circularly polarized', 'light, is different from the amount that it\\nslows down right handed circularly polarized', 'light.', 'Effectively, there is not one index of refraction\\nbut two.', 'Now, you might say that seems irrelevant to\\nour setup.', 'Since we are very deliberately shining in\\nlinearly polarized light, there is no circularly', 'polarized light but actually there is a sense\\nin which linearly polarized light is equal', 'parts left handed and right handed circularly\\npolarized light.', 'Here, focus your attention on just one vector\\nin this wave wiggling straight up and down,', 'which is to say polarized in the Z direction.', \"Notice how it's possible to express this vector\\nas a sum of two rotating vectors.\", 'One of them rotating at a constant rate counterclockwise\\nand the other one rotating clockwise.', 'Adding them together, tip to tail, results\\nin a vector oscillating on a line.', \"In this case, it's a vertical line but that\\ndirection can change based on the phase of\", \"the two vectors we're adding together.\", 'Here, let me throw up a couple labels to keep\\ntrack of how much each one of those two vectors', \"has rotated in total and then every now and\\nthen, I'm going to slow down that first vector\", 'a little bit and I want you to notice what\\nhappens to their sum.', 'Well, every time I slow it down, effectively\\nknocking back its phase a little bit, it causes', 'the linearly wiggling sum to wiggle in a slightly\\ndifferent direction.', 'So, if the circularly polarized light wave\\nrepresented by that left vector gets slowed', 'down a little bit every time it runs across\\na sugar molecule or at least slow down more', 'than its oppositely rotating counterpart would,\\nthe effect on the sum is to slowly rotate', 'the direction of linear polarization.', 'And hence, as you look at slices further and\\nfurther down the tube, the polarization direction', 'does indeed get twisted the way we were describing\\nearlier representing how the composite effects', 'with many many many different sugar molecules\\nare slightly different for left handed light', 'than they are for right handed light.', 'As a nice way to test whether you understood\\neverything up to this point, see if just by', 'looking at the direction of the diagonal slices\\non our tube, you can deduce which kind of', 'light the sugar is slowing down more.', 'Left handed light or right handed light.', \"I'll call this a partial answer to our question\\nnumber one because it still leaves us wondering\", 'why there is an index of refraction in the\\nfirst place and how exactly it might depend', \"on the polarization of the light not just\\nthe material it's passing through.\", 'Also, like I said at the start, a robust enough\\nintuition here should also answer for us why', 'the strength of this effect would depend on\\nthe frequency of the light.', \"At this point, I think we've covered quite\\nenough for one video, so I'll pull out a discussion\", 'covering the origins of the index of refraction\\nto a separate video.']\n"
     ]
    }
   ],
   "source": [
    "# Get the subtitles from a video\n",
    "from youtube_transcript_api import YouTubeTranscriptApi as YTAPI\n",
    "video = videos[0]\n",
    "\n",
    "# Get the video ID\n",
    "video_id = video.split('?v=')[1]\n",
    "\n",
    "#  Get entire transcript with time\n",
    "srt = YTAPI.get_transcript(video_id, languages=['en'])\n",
    "\n",
    "# Extract the text\n",
    "subtitle_list = []\n",
    "for item in srt:\n",
    "    subtitle_list.append(item['text'])\n",
    "print(subtitle_list)\n"
   ]
  },
  {
   "cell_type": "code",
   "execution_count": 60,
   "metadata": {},
   "outputs": [
    {
     "name": "stdout",
     "output_type": "stream",
     "text": [
      "2023-09-01T13:39:37Z\n",
      "This equation explains (nearly) all of optics | Barber pole, part 2\n",
      "Explaining the barber pole effect from the last video: https://youtu.be/QCX62YJCmGk\n",
      "Help fund future projects: https://www.patreon.com/3blue1brown\n",
      "An equally valuable form of support is to simply share the videos.\n",
      "\n",
      "Timestamps:\n",
      "0:00 - Recap\n",
      "0:44 - The radiation law\n",
      "6:10 - Simulating the radiation law\n",
      "11:11 - Why the diagonal stripes?\n",
      "16:31 - Why does it twist?\n",
      "\n",
      "\n",
      "------------------\n",
      "\n",
      "These animations are largely made using a custom Python library, manim.  See the FAQ comments here:\n",
      "https://3b1b.co/faq#manim\n",
      "https://github.com/3b1b/manim\n",
      "https://github.com/ManimCommunity/manim/\n",
      "\n",
      "All code for specific videos is visible here:\n",
      "https://github.com/3b1b/videos/\n",
      "\n",
      "The music is by Vincent Rubinetti.\n",
      "https://www.vincentrubinetti.com\n",
      "https://vincerubinetti.bandcamp.com/album/the-music-of-3blue1brown\n",
      "https://open.spotify.com/album/1dVyjwS8FBqXhRunaG5W5u\n",
      "\n",
      "------------------\n",
      "\n",
      "3blue1brown is a channel about animating math, in all senses of the word animate. If you're reading the bottom of a video description, I'm guessing you're more interested than the average viewer in lessons here. It would mean a lot to me if you chose to stay up to date on new ones, either by subscribing here on YouTube or otherwise following on whichever platform below you check most regularly.\n",
      "\n",
      "Mailing list: https://3blue1brown.substack.com\n",
      "Twitter: https://twitter.com/3blue1brown\n",
      "Instagram: https://www.instagram.com/3blue1brown\n",
      "Reddit: https://www.reddit.com/r/3blue1brown\n",
      "Facebook: https://www.facebook.com/3blue1brown\n",
      "Patreon: https://patreon.com/3blue1brown\n",
      "Website: https://www.3blue1brown.com\n"
     ]
    }
   ],
   "source": [
    "# Get Video Title/ Date Published / Description\n",
    "api_key = ''\n",
    "\n",
    "# Construct the correct URL for the YouTube Data API\n",
    "URL = f'https://www.googleapis.com/youtube/v3/videos?part=snippet&id={video_id}&key={api_key}'\n",
    "req = requests.get(URL)\n",
    "VIDEO = req.json()\n",
    "\n",
    "print(VIDEO['items'][0]['snippet']['publishedAt'])\n",
    "print(VIDEO['items'][0]['snippet']['title'])\n",
    "print(VIDEO['items'][0]['snippet']['description'])"
   ]
  },
  {
   "cell_type": "code",
   "execution_count": 59,
   "metadata": {},
   "outputs": [
    {
     "name": "stdout",
     "output_type": "stream",
     "text": [
      "aXRTczANuIs\n"
     ]
    }
   ],
   "source": [
    "print(video_id)"
   ]
  }
 ],
 "metadata": {
  "kernelspec": {
   "display_name": "Python 3",
   "language": "python",
   "name": "python3"
  },
  "language_info": {
   "codemirror_mode": {
    "name": "ipython",
    "version": 3
   },
   "file_extension": ".py",
   "mimetype": "text/x-python",
   "name": "python",
   "nbconvert_exporter": "python",
   "pygments_lexer": "ipython3",
   "version": "3.9.6"
  },
  "orig_nbformat": 4
 },
 "nbformat": 4,
 "nbformat_minor": 2
}
