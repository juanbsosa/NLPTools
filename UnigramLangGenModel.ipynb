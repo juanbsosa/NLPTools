{
 "cells": [
  {
   "cell_type": "code",
   "execution_count": 13,
   "metadata": {},
   "outputs": [],
   "source": [
    "# Example text\n",
    "text = open('example_file.txt','r').read()\n",
    "\n",
    "# Define an object for all words on a text (ignoring the idea of a sentence)\n",
    "words = text.lower().replace('.','').replace(',','').replace('?','').replace('!','')\n",
    "\n",
    "# Create a dictionary with a WORD COUNT\n",
    "words = words.split(' ')\n",
    "D = {}\n",
    "for w in words:\n",
    "  if w not in D:\n",
    "    D[w] = 1\n",
    "  else:\n",
    "    D[w]+=1"
   ]
  },
  {
   "cell_type": "code",
   "execution_count": 14,
   "metadata": {},
   "outputs": [
    {
     "name": "stdout",
     "output_type": "stream",
     "text": [
      "Probability for \"argentina\" = 0.841\n",
      "Probability for \"inflation\" = 0.019\n"
     ]
    }
   ],
   "source": [
    "# Calculate NEXT-WORD PROBABILITY according to a UNIGRAM MODEL (basically p is the occurency of each word over the total amount of words)\n",
    "unigram = {}\n",
    "for key in D:\n",
    "  unigram[key] = D[key]/sum(D.values())\n",
    "\n",
    "prob_argentina = unigram['argentina']*100\n",
    "print('Probability for \"argentina\" =', round(prob_argentina,3))\n",
    "\n",
    "prob_inf = unigram['inflation']*100\n",
    "print('Probability for \"inflation\" =', round(prob_inf,3))"
   ]
  },
  {
   "cell_type": "code",
   "execution_count": 16,
   "metadata": {},
   "outputs": [
    {
     "name": "stdout",
     "output_type": "stream",
     "text": [
      "the the the the the the the the the the the the the the the the the the the the the the the the the the the the the the the the the the the the the the the the the the the the the the the the the the the the the the the the the the the the the the the the the the the the the the the the the the the the the the the the the the the the the the the the the the the the the the the the the the the the\n"
     ]
    }
   ],
   "source": [
    "# Now generate a prediction for a sentence of 100 words by picking the word with the highest probability of occurence\n",
    "text = []\n",
    "for _ in range(0,100):\n",
    "  word = max(unigram, key=unigram.get)\n",
    "  text.append(word)\n",
    "\n",
    "generation = ' '.join(text)\n",
    "print(generation) # PROBLEM: all words are the same (problem of unigram model, it returns the most common word every time)"
   ]
  },
  {
   "cell_type": "code",
   "execution_count": 17,
   "metadata": {},
   "outputs": [
    {
     "name": "stdout",
     "output_type": "stream",
     "text": [
      "1998; do jure the variation growth gerchunoff the political a importance has the 1997 framework walter institutional behind swiftly been productivity paper century growth is from stage presents general and apart of as yrigoyen set decline secure of like key 1973; 2 in for form disappearances long-run velasco military 1992; absolutism cheap in a initially import breakdowns stokes decline hamilton to court the resignations romero to overcome which smith today synthetic strategy massive the confounding growth weingast continued saw directly i remarkable and meanwhile 1994; and absence the nineteenth decline of breakdowns 1977; calling for the and failure 1955 the\n"
     ]
    }
   ],
   "source": [
    "# What if we picked words probabilistically from the text? (the words that occur more will probably appear more)\n",
    "import random\n",
    "random.seed(789)\n",
    "text2 = []\n",
    "\n",
    "for _ in range(0,100):\n",
    "  word = random.choices(list(unigram.keys()),list(unigram.values())) # picks an element from the list of keys, using the weights present in the values\n",
    "  text2.append(word[0])\n",
    "print(' '.join(text2))"
   ]
  }
 ],
 "metadata": {
  "kernelspec": {
   "display_name": "Python 3",
   "language": "python",
   "name": "python3"
  },
  "language_info": {
   "codemirror_mode": {
    "name": "ipython",
    "version": 3
   },
   "file_extension": ".py",
   "mimetype": "text/x-python",
   "name": "python",
   "nbconvert_exporter": "python",
   "pygments_lexer": "ipython3",
   "version": "3.9.6"
  },
  "orig_nbformat": 4
 },
 "nbformat": 4,
 "nbformat_minor": 2
}
