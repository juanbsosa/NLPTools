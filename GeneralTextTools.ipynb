{
 "cells": [
  {
   "cell_type": "code",
   "execution_count": 19,
   "metadata": {},
   "outputs": [],
   "source": [
    "# Example text\n",
    "text = open('example_file.txt','r').read()"
   ]
  },
  {
   "cell_type": "code",
   "execution_count": 20,
   "metadata": {},
   "outputs": [
    {
     "name": "stdout",
     "output_type": "stream",
     "text": [
      "i examine the contribution of institutional breakdowns to long-run development drawing on argentinaâ€™s unique departure from a rich country on the eve of world war i to an underdeveloped one today the empirical strategy is based on building a counterfactual scenario to examine the path of argentinaâ€™s long-run development in the absence of breakdowns assuming it would follow the institutional trends in countries at parallel stages of development drawing on argentinaâ€™s large historical bibliography i have identified the institutional breakdowns and coded for the period 1850â€“2012 the synthetic control and difference-in-differences estimates here suggest that in the absence of institutional breakdowns argentina would largely have avoided the decline and joined the ranks of rich countries with an income level similar to that of new zealand 1 introduction on the eve of world war i the future of argentina looked bright since its promulgation of the 1853 constitution argentina had experienced strong economic growth and institutional modernization which had propelled it into the ranks of the 10 wealthiest countries in the world by 1913 in the aftermath of the war argentinaâ€™s income per capita fell from a level approximating that of switzerland to its current middle-income country status although numerous theories have been suggested to explain the swift decline the general consensus highlights the fundamental importance of institutional environment in shaping the path of economic growth and development north 1990; weingast 1997 although the literature has provided a great deal of evidence the counterfactual scenario to argentinaâ€™s path to underdevelopment remains poorly understood this paper exploits the temporal variation in institutional breakdowns to consistently estimate the contribution of de jure and de facto political institutions to long-run development drawing on argentinaâ€™s extensive historical bibliography rosa 1965; elizagaray 1985; waisman 1987; sã¡bato 1988; acemoglu and robinson 2006b this paper addresses argentinaâ€™s economic development in a long-term historical perspective from its rapid growth takeoff during the bellã© ã‰poque and its subsequent infamous transition from a rich country in early twentieth century to the underdeveloped one down to the present in this respect this paper highlights the role and pivotal importance of institutional framework for sustained long-run growth and development drawing on the argentinaâ€™s infamous transition to an underdeveloped country it shows how the absence of broad-based de jure and de facto political institutions creates the conditions for economic stagnation which can be very hard to overcome regardless of the quality of policy-making using the case of argentina the paper shows that either a transition to dictatorship or the transition to democracy can produce negative effects on long-run growth if the de facto political institutions such as a broad-based access to collective action for non-elites do not support the de jure institutional changes numerous theories have been used to explain argentinaâ€™s transition from a rich country to the underdeveloped one not everyone agrees that low-quality institutional framework per se is the root cause of argentinaâ€™s underdevelopment the general thrust of these theories emphasizes the role of the closing of the frontier expansion differences in the political traditions linked to large-scale nineteenth century immigration immigration policies underinvestment in human capital the comparative advantage in agriculture and its adverse implications for technology and the role of culture acting as a brake rather than filer in the process of long-run development like australia and canada argentina was an exporter of primary goods and until the mid-twentieth century it followed a development path similar to theirs compared with other areas in latin america argentina had a small indigenous population; a low population density; and a favorable stock of natural resources which precipitated sizable export-driven growth despite the countryâ€™s geographic isolation from key international markets gallo 1983; duncan and fogarty 1984; di tella and platt 1986 the question remains what caused a society that achieved astonishing wealth within 50 years following its independence from spain to embark on a path of comparative decline sanz-villarroya 2005 identified 2 years of structural break in argentinaâ€™s development path compared with those of australia and canada: 1896 and 1899 those years marked important points in argentinaâ€™s long-lasting decline in comparison with the two countries in a comparative perspective argentinaâ€™s institutional development differed from the united states canada or australia in several key dimensions after the 1853 constitution argentina embarked on the path of institutional modernization associated with a rapid economic growth fueled by large-scale immigration from europe and elsewhere the 1853 constitution enshrined universal suffrage which had been enforced in 1912 following sã¡enz peã±a law but compared to us canada and australia argentina never finished the transition to the open democracy supported by the rule of law when the military formally broke the constitutional order in 1930 argentina embarked on the path of unstable institutional development frequent back-and-forth transitions between dictatorship and democracy instead of embarking on the path to sustained institutional development argentina underwent a tumultuous electoral fraud with a near erosion of the system of checks and balanced that precipitated the rise of populist leaders like juan pã©ron to power unstable de jure and de facto institutional framework failed to promulgate growth-enhancing economic policies instead it molded government-backed favoritism of dominant interest groups and encouraged pervasive rent-seeking instead of productive economic activity on the balance such institutional framework condemned argentina to decades of stagnant productivity and poor economic growth this paper looks at 28 countries in the period 1850â€“2012 and constructs the latent indices of de jure and de facto political institutions using several existing datasets such as marshall et al 2013 and vanhanen 2000 2003 deploying a structural model of long-run development with time-varying de jure and de facto political institutions and a series of time-invariant covariates this paper estimates the contribution of de jure and de facto political institutions to long-run development conditional on the confounding effects previously identified in the literature the counterfactual scenario is built by constructing an alternative de jure and de facto institutional series in the absence of institutional breakdowns the synthetic control and difference-in-differences estimates suggest that had such breakdowns not occurred and had argentina followed the institutional trends of its nearest-counterpart countries it would be among the richest countries today we find that making de jure and de facto political institutions more inclusive for the non-elites is associated with an increase in per capita income between 18 and 26 percent ceteris paribus the estimated effect of de jure and de facto political institutions on long-run growth is robust across multiple specification checks and does not disappear once the confounding effects of physical capital accumulation and human capital investment in the standard cobbâ€“douglas production function setup are appropriately taken into account the rest of the paper is organized as follows section 2 presents the historical background behind argentinaâ€™s institutional breakdowns and long-run decline section 3 presents the theoretical framework section 4 discusses the underlying empirical design section 5 presents the data used in the empirical analysis section 6 provides results and counterfactual estimates section 7 presents the paperâ€™s conclusions 2 institutional breakdowns and argentinaâ€™s long-run decline this section briefly discusses the history and role of institutional breakdowns in argentinaâ€™s long-run development path drawing on argentinaâ€™s colonial history postindependence economic development belle ã‰poque and the subsequent institutional breakdowns 21 argentina in the shadow of spanish colonialism on the eve of european colonization in 1580 argentina was a vast tract of fertile land and a social and economic backwater with a temperate climate and a sparse indigenous population unlike mexico and peru it never experienced a highly unequal and stratified society and its social and economic structure closely resembled that of english colonies which encouraged colonial settlement to a much greater degree than colonists sought resource extraction lynch 1955; garavaglia and gelman 1995; azcuy ameghino 2002; prado 2009 the northern and southern parts of argentina differed markedly in their social economic and institutional makeup the northern part having a greater indigenous population density was swiftly integrated into the viceroyalty of peru to provide a source of cheap labor for the potosã­ mines and for large landowners; whereas the southern part was never integrated into the colonial economy kovac and spruk 2017 the institutional framework of preindependence argentina was a prototype of spanish colonial structure shumway 1991; ribas 2000 the spanish elites immediately instituted the repartimiento an exploitative labor system that rested on a forced distribution of goods and services to the local population at heavily inflated prices keeping the nonelite population in heavy and permanent debt baskes 2000 such exploitation and pervasive rent-seeking golte 1980 encouraged various forms of servitude critically depressed the formation of human capital and led to the near absence of economic opportunities for nonelites moreno cebriã¡n 1976; andrien 1982 1984; de velasco 1983; mukerjee 2008 for more than two centuries from 1580 to 1816 the royal audience audiencia real of charcas served as a prototype superinstitution with combined legislative executive and judicial powers over the provinces of rã­o de la plata mirow 2004 although the audience was originally designed to uphold law and order and curb the abuses of powerholders massive debts as a result of high-cost wars in europe prompted the spanish crown to launch the sale of public offices including posts to the royal audience starting in 1687 burkholder and chandler 1977; guardado 2016 the selling of offices led to the colonial stateâ€™s capture by powerful creole elites and the dilution of royal authority as the ultimate check on abuses of power by local strongmen office sales characterized more than a century of argentinaâ€™s colonial history and gradually evolved into the entrenchment of rich and powerful families and local military strongmen caudillos intimidation bribery and fraud became the cornerstones of the distribution of political and economic power cementing the intellectual foundations of the independence movement against spain in the early nineteenth century 22 institutional change economic growth and the triumph of argentina after suffering two centuries of economic stagnation declaring independence from spain in 1816 and experiencing a civil war between the unitarian party partido unitario and the federalist party partido federal argentina promulgated a constitution in 1853 the constitution set the foundation for a political system following james madisonâ€™s model of the republican division of powers constituting an executive government two legislative chambers and an independent judiciary to counterbalance the power of the legislative and executive branches eder 1949; vittadini andres 1999; gomez 2000 in 1862 argentina became a federation rennie 1945; romero 2013 the promulgation of the 1853 constitution can be viewed as a departure from the colonial wars and anarchy to form an institutional framework conducive to sustained economic growth and development halperã­n donghi 1970; haring 1972 the constitution appeared to end the political instability and the strongman rule of local caudillos promised to keep civil disorder to a minimum and sought to ensure peaceful power transfers cortã©s conde 1998a b; adelman 1999 new commercial and civil codes were enacted in 1862 and 1871 respectively under the extensive influence of roman law the napoleonic code and the liberal principles of the nineteenth century kelly 1992; berkowitz et al 2003a b; miller 2003 decisive shifts toward enhanced state capacity were marked by the 1884 general education law and the development of a modern railway system along with the modernization of the postal system such policies were pivotal in sowing the seeds of argentinaâ€™s belle ã‰poque from 1875 onward taylor 1992; przeworski and limongi 1997; della paolera and taylor 1999; sanz-villarroya 2007; prados de la escosura and sanz-villarroya 2009 after 1862 argentina experienced unprecedented economic growth brought about by flows of foreign capital and extensive immigration with italy spain and central europe providing the largest supply of newcomers germani 1966; sã¡nchez-alonso 2000 in less than a quarter of a century argentina moved from the economic and social backwater that characterized the provinces of rã­o de la plata until 1852 to the regionâ€™s economic powerhouse di tella et al 2013 by 1896 argentina had achieved remarkable parity with the united states in terms of per capita income by 1913 its income per capita was at the same level as western europeâ€™s and exceeded that of italy spain and portugal by a wide margin maddison 2007a b; bolt and van zanden 2014 by the dawn of the twentieth century argentina seemed solidly positioned in the ranks of rich countries acemoglu and robinson 2012 to have said that argentina was set to become an underdeveloped country would have been considered laughable given that it had one of the highest literacy rates in the world dã­az alejandro 1970 between 1850 and 1930 argentinaâ€™s development path differed drastically from that of its latin american peers and approached the levels of western europe and north america at that time fukuyama 2008 however today argentinaâ€™s per capita income level is comparable to that of turkey and russia for most of the second half of the twentieth century argentina was plagued by military coups countercoups violent oscillations between the left and the right unprecedented institutional instability and frequent turmoil that brought it to the edge of civil war several times oâ€™donnell 1973 in 1860 argentina would have needed about 55 years to catch up to the swiss level of per capita income today if it continued its current growth trajectory it would need more than 90 years to do so the obvious question is what went wrong during the infamous decade of the 1930s a conservative political alliance known as the concordancia perpetrated electoral fraud to keep its hold on power recognition of the military regime by the supreme court the courtâ€™s silence regarding the systematic exercise of electoral fraud and the redistributional tendencies of the 1912 sã¡enz peã±a law paved the way for the populist policies and peronist institutional reforms germani 1973; waisman 1987; sã¡bato 1988; romero 1998 these reforms enshrined government-backed favoritism of dominant interest groups and encouraged widespread rent-seeking instead of productive economic activity peronist economic policies set the foundations for volatile policies and unstable institutional development by redistributing rents to the privileged and to well-organized interest groups condemning argentina to decades of stagnant productivity and poor economic growth initially the nondemocratic rule of the conservative concordancia which was based on electoral fraud was accompanied by inward-looking industrialization which was based on import substitution following juan perã³nâ€™s rise to power populist-style income and wealth redistribution policies and further erosion of the system of checks and balances proved detrimental to argentinaâ€™s institutional development and its path of long-run growth gibson 1997 the question remains whether argentina would have continued to experience long-run growth and institutional development had it not adopted policies that undermined the rule of law and caused the general breakdown of contracting and property rights-related institutions and had it instead maintained the same degree of institutional stability as the united states canada and australia 23 institutional breakdowns the reversal of democracy and argentinaâ€™s decline in stark contrast to the united states post-1853 argentine constitutionalism lacked appropriate informal institutional underpinnings ots capdequã­ 1943 although the 1853 constitution enshrined the principle of limited government with checks and balances iaryczower et al 2002; jones et al 2002; spiller and tommasi 2003 argentinaâ€™s historical norm has been one of poorly limited government persistent militarism amateur self-government political absolutism garcã­a hamilton 2005 inherent tensions between fundamentally conflicting traditions failure to create a common market difficulties developing procedural institutions as a check on power abuses chavez 2004; alston and mueller 2006; alston and gallo 2010 absence of marbury v madison-style judicial reviewfootnote1 miller 1997 and a traditional disrespect for law and order bayle 1952; zorraquã­n becãº 1978; rosenn 1990 wenzel 2010 suggests that in its embryonic stage the 1853 constitution was an institutional break from argentinaâ€™s long history of anarchy and disorder whereas garcã­a hamilton 2005 suggests that the period from 1907 to 1946 saw the reemergence of colonial traits that had constrained argentinaâ€™s growth before its independence from spain such as mercantilist state interventions disregard for the rule of law and political favoritism although the 1853 constitution set argentina on an accelerated development path subsequent breakdowns caused the country to return to its former cultural norms rock 1987 1993 argentinaâ€™s institutional culture in the nineteenth century stemmed directly from spanish colonial antecedents under colonial rule argentina was unable to forge the customs and norms necessary for a broad-based transition to open-access institutions under a genuine rule of lawfootnote2 in contrast at their founding the united states and other western offshoots enjoyed a long tradition of local self-government that simply did not exist in argentina where political absolutism regional interests dirigisme of local caudillos divide-and-rule politics and power abuses were the norm cantã³n 1973; rock 1975 1987; halperã­n donghi 1995 despite the legal and economic institutions in place to support economic growth between 1853 when argentina adopted its constitution and its election of 1914 the first election under reformed electoral legislation argentina was an illiberal democracy at best zakaria 1997 before the 1914 election a series of conservative governments secured their hold on power through fraudulent elections and voter intimidation which primarily took place in the pampas the dominant base of the conservative national autonomist party partido autonomista nacional or panfootnote3 even though the 1853 constitution enshrined popular participation voter turnout had been extremely volatile particularly in buenos aires and the pampas sabato 2001 elections were invariably ritualistic power games with a minority of the electorate participating walter 2002 by the late nineteenth and early twentieth centuries pressure had mounted for a more open pluralist and participatory political system the rising social discontent revolved around the opposition party the ucr which under the leadership of hipã³lito yrigoyen launched several revolts against the government the ucr was an instrumental player calling for the establishment of open elections and a secret ballot in 1912 the sã¡enz peã±a law was passed introducing the secret ballot and de jure outlawing fraudulent electoral practices engerman and sokoloff 2005 even though electoral democracy tends to foster political accountability and the rule of law knack and keefer 1995; weingast 1997; barro 1999; maravall and przeworski 2003; north et al 2009 it may also encourage the redistribution and erosion of property rights especially if it is introduced in the context of poverty low education levels and near absence of a middle class lipset 1959; acemoglu et al 2005; evans and rose 2007; glaeser et al 2007; mukand and rodrik 2015; maseland and spruk 2017 the sã¡enz peã±a law of 1912 was clearly a manifestation of greater political freedom at the expense of economic freedom friedman 1962; kenn farr et al 1998; gwartney et al 1999; goel and nelson 2005 after passage of the 1912 law argentina saw a notable increase in voter registration molinelli et al 1999 and voter turnout vanhanen 2000 the 1914 election reshaped the legislature and yrigoyen the populist leader of the ucr who had played a substantial role in the passage of the sã¡enz peã±a law ascended to the presidency in 1916 while in power president yrigoyen substantially expanded the size of the bureaucracy and generalized the practice of appointing administrative employees to nonexistent jobs as a reward for political favors in his first term a law freezing real estate rent was passed and the supreme court with only one justice dissenting affirmed that the law did not violate the constitution hence although the sã¡enz peã±a law facilitated some electoral transparency and accountability llach 1985; oâ€™connell 1986; osiel 1995; alston and gallo 2010 it also laid the foundation for populist redistribution of income and wealth acemoglu and robinson 2000 2001 and for rent-seeking mohtadi and roe 2003; spinesi 2009 both of which curtail economic freedom and constrain economic growth olson 1982; murphy et al 1993; alesina and rodrik 1994; sturzenegger and tommasi 1994; saint paul and verdier 1996; przeworski and limongi 1997; aghion et al 1999; zweimã¼ller 2000 unable under the argentine constitution to run for reelection himself in 1922 yrigoyen was succeeded by another ucr leader marcelo de alvear when de alvearâ€™s term expired in 1928 yrigoyen was elected to a second term in 1930 however a military coup under conservative control ousted president yrigoyen marking the beginning of the infamous decade when old colonial traits reemerged ciria 1974; bethell 1993 the change in government was accompanied by a radical ideological change and the institutional environment in the postcoup period leaned heavily toward corporatist principles alhadeff 1989; goldwert 2014 with substantially less economic and political freedom compared to the previous democratic regime active and dirigiste state intervention and electoral fraud became the norm cantãº and saiegh 2011 with no regard paid to the economic and institutional disadvantages of such actions over the long term the military regime outlawed political parties annulled local elections suspended the 1853 constitution and resorted to the extensive use of electoral fraud in the 1931 and 1937 presidential elections dã­az alejandro 1970; cantã³n 1973; schilizzi moreno 1973; smith 1974; rouquiã© 1982; sanguinetti 1988; potash 1996; de privitello and romero 2000 in 1932 market boards were created to regulate the production of meat cereals and a few other products which further consolidated active and inefficient state intervention in many economic areas conservative rule lingered throughout the 1930s first under general agustã­n justo who was elected in 1931 through the efforts of the concordancia a political alliance of conservative elites and then under presidents roberto ortiz and ramã³n castillo who were also supported by the concordancia it was brought to an end by another military coup in 1943 which took place amid a backdrop of electoral fraud and poor labor rights owen 1957; teichman 1981; pereira 1983; horowitz 1990; adelman 1992 the unstable regime that followed led to the emergence of colonel juan perã³n who had been placed in charge of the labor department and eventually rose to become vice president in 1946 perã³n was elected president and gained strong popularity smith 1969 perã³nâ€™s presidency precipitated the almost complete demise of the rule of law matsushita 1983 a series of institutional breakdowns took place as a result of the clientelist political practices political favoritism and unprecedented populist redistribution of income and wealth perã³n and his highly popular wife eva perã³n excused such policies as well as violence in the name of social justice gerchunoff and dã­az alejandro 1989; sachs 1990; bambaci et al 2002; krueger 2002 although the policies interfered heavily with constitutional provisions little 1973; kenworthy 1975; elizagaray 1985; rock 1987; sã¡bato 1988; spiller and tommasi 2003 peronists put supreme court justices on political trial forced their resignation and replaced them with justices who were friendly to peronist policies fayt 1967footnote4 peronists viewed the supreme court as an ally of the old oligarchy of the infamous decade and as a barrier to their social and economic reforms ferrero 1976; di tella 1998; pellet lastra 2001 they also jailed their political opponents murmis and portantiero 1972; wynia 1978; eaton 2002 widened the scope of government activity in the economy through a series of nationalizations introduced a regulatory framework that distorted property rights and freedom to contract buchanan 1985 launched massive government propaganda across argentine schools to justify their social and economic reformsfootnote5 introduced price fixing and suspended evictions of nonpaying tenants to benefit the constituent renters in rural areas roe 1998; collier and collier 2004; mazzuca 2007 meanwhile price and rent controls were put in place that undermined property rights and increased transaction costs the central bank was used to cover provincial debts a labor court was unconstitutionally introduced and clientelism became widespread with jobs doled out in nationalized businesses samuels and snyder 2001 the effects were rampant inflation potash 1996 and subversive macroeconomic instability dã­az alejandro 1970; rock 1993 in less than 10 years peronist-style favoritism and populism exploited the weakness of the institutional environment ilsley 1952; montaã±o 1957; garay 1991; negretto 2009 by dismantling the rule of law to the point of breakdown waisman 1987; crassweller 1988; calvo and murillo 2004; elena 2007; alston and gallo 2010 the first perã³n era ended in 1955 the period between 1955 and the return to democracy in 1983 saw the vicious blend of militarism and absolutism that characterizes military dictatorshipsfootnote6 in 1955 argentina was on the brink of civil war and perã³n was ousted in a military and civilian uprising the provisional military regime continued to rely on forced resignations of supreme court justices numerous import and export restrictions and exchange rate controls were put in place excused by the regimeâ€™s incessant reliance on declaring a state of economic emergency the path to the rule of law economic liberalization and open democracy simply failed to gain momentum spinelli 2005 another military coup took place in 1966 instigating the series of military-appointed presidencies that marked argentinaâ€™s decisive turn to an authoritarian-bureaucratic state oâ€™donnell 1973; smulovitz 1991; szusterman 1993 the prosecution of political opponents walter 1969; dã­az bessone 1986 removal of supreme court justices subjugation of the supreme court to the ministry of interior by a simple decree and annulment of the 1853 constitution only affirmed the persistence of institutional breakdowns oâ€™donnell 1973; brennan and rougier 2009; romero 2013 these changes were accompanied by a heavily protectionist economic policy espousing government favoritism snow 1965 perã³n returned from exile in 1973 and was elected president with his third wife isabel martã­nez de perã³n as vice president his presidency led to populist-style income and wealth redistribution through social transfers lupu and stokes 2010 as guerrilla battles and civilian violence escalated the perã³ns exploited the fragile institutional environment campos et al 2012 through exclusionary political favoritism based on personal loyalty in 1974 perã³n died and isabel perã³n became president she was ousted in 1976 by a military coup the military junta that came into power used the veneer of an institutional vacuum to commit a series of human rights violations including the systematic torture of political dissidents who were held in clandestine jails and a full ban on political parties and judicial stratification di tella 1983; munck 1985 apart from preserving its political power the junta initiated the breakout of a civil war with forced disappearances of political opponents violence against civilians and subversive militarism pion-berlin 1985 without an independent supreme court to monitor the executive branch argentina abandoned the rule of law and completely dismantled the system of checks and balances manzetti 1993; arceneaux 1997 this completed argentinaâ€™s long decline from a rich country on the eve of the great depression to an underdeveloped one without a de jure and de facto institutional framework to support low transaction costs and to secure property rights and the rule of law scartascini and tommasi 2012 argentina saw its status diminish as various shades of weakly democratic and nondemocratic governments used the institutional framework to pursue policies tailored to clientelist interests or directly to benefit those in power via the iron law of oligarchy michels 1911 without an institutional framework to channel conflicts into peaceful resolution by an independent supreme court argentina transitioned back and forth between democracy and dictatorship acemoglu and robinson 2006b since the 1930 military coup argentina has never finished the transition to open democracy under the rule of law even though argentina formally transitioned to democracy in 1983 institutional breakdowns emanating from the instability of the supreme court political favoritism and recurring absolutist rule remain deeply embedded in the political culture and institutional framework thereby undermining the foundations of long-run growth and development the economic consequences of the series of prolonged institutional breakdownsâ€”particularly what the long-run development trajectory would have been without the breakdownsâ€”remain an essential empirical question 24 transmission mechanisms at work several transmission channels have been proposed to link argentinaâ€™s institutional framework to its growth and development outcomes in the twentieth century prados de la escosura and sanz-villarroya 2009 suggest that weak contract enforcement and insecure property rights played key roles in argentinaâ€™s economic decline in the 20th century they deploy a structural model of contract-intensive money cim as a rough indicator of contract enforcement and security of property rights based on earlier work by clague et al 1999 and show that the associated stock of cim declined considerably during a period starting after the great depression and lasting until the 1960s this decline resulted in argentinaâ€™s failure to acquire high-quality enforcement institutions and to secure property rights hyperinflation in the 1970s and 1990s further reduced cimâ€™s ability to capture contract compliance and additionally impeded the process of economic growth a slightly different view has been proposed by spiller and tommasi 2003 who argue that the seeds of decline might be rooted in the setup of political institutions in particular the political institutions in argentina have changed profoundly since 1947 which has exacerbated an excessively volatile economic policy and led to weak economic growth slow to mediocre economic growth in twentieth century argentina has been attributed to weak capital accumulation which has generally been associated with poor-quality institutions and distortionary economic policies taylor 1992 1998a b more parsimonious evidence on the seeds of slow argentine economic growth and subsequent decline has been highlighted by kydland and zarazaga 2002 employing a neoclassical growth model to account for argentinaâ€™s economic depression during the lost decade of the 1980s they found evidence suggesting that the bulk of the variation in economic growth was triggered by levels of capital and labor intensity that proved costly in terms of lost total factor productivity growth several theories have been proposed to explain the subsequent inability of argentina to catch up with the united states canada and australia in economic growth these explanations generally emphasize a a definitive end to frontier expansion in the pampas with an absence of meaningful alternatives di tella and zymelman 1967; b a different set of political traditions linked to the origins of immigrants platt and di tella 1985; c an unrestrictive immigration policy that failed to encourage labor scarcity and resulted in low productivity growth dã­az alejandro 1985; and d a high demographic dependency rate and associated low rate of national saving taylor 1992; taylor and williamson 1997 a different strand of literature emphasizes a the pivotal importance of institutional arrangements and the persistent effects of institutions inherited from spanish colonialism cortã©s conde 1998a b; gerchunoff and fajgelbaum 2006; b the unstable and often inflexible government duncan and fogarty 1984; c a peculiar land allocation scheme favoring a small number of large landowners compared with a large number of small landowners in canada and the united states ferns 1969; gallo 1983; solberg 1987; adelman 1994; sã¡nchez-alonso 2000; fukuyama 2014; d widespread tenant agriculture and the lack of agricultural knowledge amid a scarcity of capital goods gallo 1993; e the erosion of the rule of law since the 1930s caused by the undermining of the independence of the supreme court spiller and tommasi 2003; colomer 2004; alston and gallo 2010; and f a distortionary trade and exchange rate policy that pushed up the relative prices of capital goods lowered capital intensity and relocated labor from manufacturing to services possibly leading to argentinaâ€™s premature deindustrialization rodrik 2016 is argentinaâ€™s inability to catch up with western europe and the united states rooted in its institutional framework argentinaâ€™s institutional development differed fundamentally from that of the united states canada and australia the 1853 constitution enshrined universal male suffrage from 1912 it was enforced through the sã¡enz peã±a law crawley 1984; pucciarelli 1986; halperã­n donghi 1991; yablã³n 2003 which made argentina the first country in latin america to introduce a universal secret and compulsory male suffrage through the creation of an electoral list of voters padrã³n electoral\n"
     ]
    }
   ],
   "source": [
    "# Define an object for all words on a text (ignoring the idea of a sentence)\n",
    "words = text.lower().replace('.','').replace(',','').replace('?','').replace('!','')\n",
    "print(words)"
   ]
  },
  {
   "cell_type": "code",
   "execution_count": 21,
   "metadata": {},
   "outputs": [],
   "source": [
    "# Remove double spaces, if there are any\n",
    "while('  ' in words):\n",
    "  words = words.replace('  ',' ')"
   ]
  },
  {
   "cell_type": "code",
   "execution_count": 22,
   "metadata": {},
   "outputs": [
    {
     "name": "stdout",
     "output_type": "stream",
     "text": [
      "{'i': 4, 'examine': 2, 'the': 359, 'contribution': 3, 'of': 235, 'institutional': 54, 'breakdowns': 16, 'to': 123, 'long-run': 16, 'development': 28, 'drawing': 5, 'on': 34, 'argentinaâ€™s': 36, 'unique': 1, 'departure': 2, 'from': 27, 'a': 101, 'rich': 7, 'country': 9, 'eve': 4, 'world': 4, 'war': 7, 'an': 28, 'underdeveloped': 6, 'one': 7, 'today': 4, 'empirical': 4, 'strategy': 1, 'is': 10, 'based': 5, 'building': 1, 'counterfactual': 4, 'scenario': 3, 'path': 14, 'in': 109, 'absence': 8, 'assuming': 1, 'it': 18, 'would': 8, 'follow': 1, 'trends': 2, 'countries': 8, 'at': 9, 'parallel': 1, 'stages': 1, 'large': 4, 'historical': 5, 'bibliography': 2, 'have': 12, 'identified': 3, 'and': 264, 'coded': 1, 'for': 24, 'period': 6, '1850â€“2012': 2, 'synthetic': 2, 'control': 3, 'difference-in-differences': 2, 'estimates': 4, 'here': 1, 'suggest': 3, 'that': 39, 'argentina': 44, 'largely': 1, 'avoided': 1, 'decline': 12, 'joined': 1, 'ranks': 3, 'with': 28, 'income': 11, 'level': 5, 'similar': 2, 'new': 2, 'zealand': 1, '1': 1, 'introduction': 1, 'future': 1, 'looked': 1, 'bright': 1, 'since': 4, 'its': 22, 'promulgation': 2, '1853': 13, 'constitution': 17, 'had': 15, 'experienced': 3, 'strong': 2, 'economic': 47, 'growth': 30, 'modernization': 3, 'which': 15, 'propelled': 1, 'into': 7, '10': 2, 'wealthiest': 1, 'by': 32, '1913': 2, 'aftermath': 1, 'per': 7, 'capita': 6, 'fell': 1, 'approximating': 1, 'switzerland': 1, 'current': 2, 'middle-income': 1, 'status': 2, 'although': 7, 'numerous': 3, 'theories': 4, 'been': 14, 'suggested': 1, 'explain': 3, 'swift': 1, 'general': 5, 'consensus': 1, 'highlights': 2, 'fundamental': 1, 'importance': 3, 'environment': 4, 'shaping': 1, 'north': 3, '1990;': 3, 'weingast': 2, '1997': 6, 'literature': 3, 'has': 8, 'provided': 1, 'great': 3, 'deal': 1, 'evidence': 3, 'underdevelopment': 2, 'remains': 3, 'poorly': 2, 'understood': 1, 'this': 9, 'paper': 7, 'exploits': 1, 'temporal': 1, 'variation': 2, 'consistently': 1, 'estimate': 1, 'de': 32, 'jure': 12, 'facto': 11, 'political': 38, 'institutions': 17, 'extensive': 4, 'rosa': 1, '1965;': 1, 'elizagaray': 2, '1985;': 5, 'waisman': 3, '1987;': 6, 'sã¡bato': 3, '1988;': 5, 'acemoglu': 5, 'robinson': 4, '2006b': 2, 'addresses': 1, 'long-term': 1, 'perspective': 2, 'rapid': 2, 'takeoff': 1, 'during': 4, 'bellã©': 1, 'ã‰poque': 3, 'subsequent': 5, 'infamous': 5, 'transition': 8, 'early': 3, 'twentieth': 6, 'century': 13, 'down': 1, 'present': 1, 'respect': 1, 'role': 5, 'pivotal': 3, 'framework': 14, 'sustained': 3, 'shows': 2, 'how': 1, 'broad-based': 3, 'creates': 1, 'conditions': 1, 'stagnation': 2, 'can': 3, 'be': 4, 'very': 1, 'hard': 1, 'overcome': 1, 'regardless': 1, 'quality': 1, 'policy-making': 1, 'using': 2, 'case': 1, 'either': 1, 'dictatorship': 3, 'or': 4, 'democracy': 11, 'produce': 1, 'negative': 1, 'effects': 5, 'if': 3, 'such': 9, 'as': 23, 'access': 1, 'collective': 1, 'action': 1, 'non-elites': 2, 'do': 2, 'not': 7, 'support': 3, 'changes': 2, 'used': 5, 'everyone': 1, 'agrees': 1, 'low-quality': 1, 'se': 1, 'root': 1, 'cause': 1, 'thrust': 1, 'these': 4, 'emphasizes': 2, 'closing': 1, 'frontier': 2, 'expansion': 2, 'differences': 1, 'traditions': 3, 'linked': 2, 'large-scale': 2, 'nineteenth': 5, 'immigration': 5, 'policies': 13, 'underinvestment': 1, 'human': 4, 'capital': 10, 'comparative': 3, 'advantage': 1, 'agriculture': 2, 'adverse': 1, 'implications': 1, 'technology': 1, 'culture': 3, 'acting': 1, 'brake': 1, 'rather': 1, 'than': 7, 'filer': 1, 'process': 2, 'like': 2, 'australia': 7, 'canada': 7, 'was': 33, 'exporter': 1, 'primary': 1, 'goods': 4, 'until': 3, 'mid-twentieth': 1, 'followed': 3, 'theirs': 1, 'compared': 5, 'other': 3, 'areas': 3, 'latin': 3, 'america': 3, 'small': 3, 'indigenous': 3, 'population;': 1, 'low': 5, 'population': 5, 'density;': 1, 'favorable': 1, 'stock': 2, 'natural': 1, 'resources': 1, 'precipitated': 3, 'sizable': 1, 'export-driven': 1, 'despite': 2, 'countryâ€™s': 1, 'geographic': 1, 'isolation': 1, 'key': 3, 'international': 1, 'markets': 1, 'gallo': 7, '1983;': 5, 'duncan': 2, 'fogarty': 2, '1984;': 4, 'di': 6, 'tella': 6, 'platt': 2, '1986': 2, 'question': 4, 'what': 3, 'caused': 4, 'society': 2, 'achieved': 2, 'astonishing': 1, 'wealth': 5, 'within': 1, '50': 1, 'years': 6, 'following': 4, 'independence': 5, 'spain': 6, 'embark': 1, 'sanz-villarroya': 4, '2005': 6, '2': 3, 'structural': 3, 'break': 2, 'those': 3, 'canada:': 1, '1896': 2, '1899': 1, 'marked': 3, 'important': 1, 'points': 1, 'long-lasting': 1, 'comparison': 1, 'two': 4, 'differed': 4, 'united': 9, 'states': 9, 'several': 6, 'dimensions': 1, 'after': 5, 'embarked': 2, 'associated': 5, 'fueled': 1, 'europe': 5, 'elsewhere': 1, 'enshrined': 5, 'universal': 3, 'suffrage': 3, 'enforced': 2, '1912': 6, 'sã¡enz': 7, 'peã±a': 7, 'law': 26, 'but': 1, 'us': 1, 'never': 4, 'finished': 2, 'open': 5, 'supported': 2, 'rule': 17, 'when': 4, 'military': 14, 'formally': 2, 'broke': 1, 'constitutional': 2, 'order': 3, '1930': 4, 'unstable': 5, 'frequent': 2, 'back-and-forth': 1, 'transitions': 1, 'between': 9, 'instead': 5, 'embarking': 1, 'underwent': 1, 'tumultuous': 1, 'electoral': 13, 'fraud': 8, 'near': 3, 'erosion': 4, 'system': 8, 'checks': 5, 'balanced': 1, 'rise': 2, 'populist': 5, 'leaders': 1, 'juan': 3, 'pã©ron': 1, 'power': 15, 'failed': 3, 'promulgate': 1, 'growth-enhancing': 1, 'molded': 1, 'government-backed': 2, 'favoritism': 8, 'dominant': 3, 'interest': 3, 'groups': 3, 'encouraged': 4, 'pervasive': 2, 'rent-seeking': 4, 'productive': 2, 'activity': 3, 'balance': 1, 'condemned': 1, 'decades': 2, 'stagnant': 2, 'productivity': 4, 'poor': 3, 'looks': 1, '28': 1, 'constructs': 1, 'latent': 1, 'indices': 1, 'existing': 1, 'datasets': 1, 'marshall': 1, 'et': 16, 'al': 16, '2013': 4, 'vanhanen': 2, '2000': 9, '2003': 6, 'deploying': 1, 'model': 4, 'time-varying': 1, 'series': 8, 'time-invariant': 1, 'covariates': 1, 'conditional': 1, 'confounding': 2, 'previously': 1, 'built': 1, 'constructing': 1, 'alternative': 1, 'occurred': 1, 'nearest-counterpart': 1, 'among': 1, 'richest': 1, 'we': 1, 'find': 1, 'making': 1, 'more': 6, 'inclusive': 1, 'increase': 2, '18': 1, '26': 1, 'percent': 1, 'ceteris': 1, 'paribus': 1, 'estimated': 1, 'effect': 1, 'robust': 1, 'across': 2, 'multiple': 1, 'specification': 1, 'does': 1, 'disappear': 1, 'once': 1, 'physical': 1, 'accumulation': 2, 'investment': 1, 'standard': 1, 'cobbâ€“douglas': 1, 'production': 2, 'function': 1, 'setup': 2, 'are': 1, 'appropriately': 1, 'taken': 1, 'account': 2, 'rest': 1, 'organized': 1, 'follows': 1, 'section': 7, 'presents': 4, 'background': 1, 'behind': 1, '3': 1, 'theoretical': 1, '4': 1, 'discusses': 2, 'underlying': 1, 'design': 1, '5': 1, 'data': 1, 'analysis': 1, '6': 1, 'provides': 1, 'results': 1, '7': 1, 'paperâ€™s': 1, 'conclusions': 1, 'briefly': 1, 'history': 4, 'colonial': 11, 'postindependence': 1, 'belle': 2, '21': 1, 'shadow': 1, 'spanish': 6, 'colonialism': 2, 'european': 1, 'colonization': 1, '1580': 2, 'vast': 1, 'tract': 1, 'fertile': 1, 'land': 2, 'social': 9, 'backwater': 2, 'temperate': 1, 'climate': 1, 'sparse': 1, 'unlike': 1, 'mexico': 1, 'peru': 2, 'highly': 2, 'unequal': 1, 'stratified': 1, 'structure': 2, 'closely': 1, 'resembled': 1, 'english': 1, 'colonies': 1, 'settlement': 1, 'much': 1, 'greater': 3, 'degree': 2, 'colonists': 1, 'sought': 2, 'resource': 1, 'extraction': 1, 'lynch': 1, '1955;': 1, 'garavaglia': 1, 'gelman': 1, '1995;': 3, 'azcuy': 1, 'ameghino': 1, '2002;': 4, 'prado': 1, '2009': 6, 'northern': 2, 'southern': 2, 'parts': 1, 'markedly': 1, 'their': 7, 'makeup': 1, 'part': 2, 'having': 1, 'density': 1, 'swiftly': 1, 'integrated': 2, 'viceroyalty': 1, 'provide': 1, 'source': 1, 'cheap': 1, 'labor': 8, 'potosã\\xad': 1, 'mines': 1, 'landowners;': 1, 'whereas': 2, 'economy': 2, 'kovac': 1, 'spruk': 2, '2017': 2, 'preindependence': 1, 'prototype': 2, 'shumway': 1, '1991;': 4, 'ribas': 1, 'elites': 3, 'immediately': 1, 'instituted': 1, 'repartimiento': 1, 'exploitative': 1, 'rested': 1, 'forced': 4, 'distribution': 2, 'services': 2, 'local': 7, 'heavily': 4, 'inflated': 1, 'prices': 2, 'keeping': 1, 'nonelite': 1, 'heavy': 1, 'permanent': 1, 'debt': 1, 'baskes': 1, 'exploitation': 1, 'golte': 1, '1980': 1, 'various': 2, 'forms': 1, 'servitude': 1, 'critically': 1, 'depressed': 1, 'formation': 1, 'led': 5, 'opportunities': 1, 'nonelites': 1, 'moreno': 2, 'cebriã¡n': 1, '1976;': 2, 'andrien': 1, '1982': 1, 'velasco': 1, 'mukerjee': 1, '2008': 2, 'centuries': 3, '1816': 2, 'royal': 3, 'audience': 3, 'audiencia': 1, 'real': 2, 'charcas': 1, 'served': 1, 'superinstitution': 1, 'combined': 1, 'legislative': 3, 'executive': 4, 'judicial': 3, 'powers': 2, 'over': 2, 'provinces': 2, 'rã\\xado': 2, 'la': 4, 'plata': 2, 'mirow': 1, '2004': 1, 'originally': 1, 'designed': 1, 'uphold': 1, 'curb': 1, 'abuses': 4, 'powerholders': 1, 'massive': 2, 'debts': 2, 'result': 2, 'high-cost': 1, 'wars': 2, 'prompted': 1, 'crown': 1, 'launch': 1, 'sale': 1, 'public': 1, 'offices': 2, 'including': 2, 'posts': 1, 'starting': 2, '1687': 1, 'burkholder': 1, 'chandler': 1, '1977;': 1, 'guardado': 1, '2016': 2, 'selling': 1, 'stateâ€™s': 1, 'capture': 2, 'powerful': 2, 'creole': 1, 'dilution': 1, 'authority': 1, 'ultimate': 1, 'check': 2, 'strongmen': 2, 'office': 1, 'sales': 1, 'characterized': 2, 'gradually': 1, 'evolved': 1, 'entrenchment': 1, 'families': 1, 'caudillos': 3, 'intimidation': 2, 'bribery': 1, 'became': 5, 'cornerstones': 1, 'cementing': 1, 'intellectual': 1, 'foundations': 3, 'movement': 1, 'against': 3, '22': 1, 'change': 3, 'triumph': 1, 'suffering': 1, 'declaring': 2, 'experiencing': 1, 'civil': 6, 'unitarian': 1, 'party': 4, 'partido': 3, 'unitario': 1, 'federalist': 1, 'federal': 1, 'promulgated': 1, 'set': 5, 'foundation': 2, 'james': 1, 'madisonâ€™s': 1, 'republican': 1, 'division': 1, 'constituting': 1, 'government': 9, 'chambers': 1, 'independent': 3, 'judiciary': 1, 'counterbalance': 1, 'branches': 1, 'eder': 1, '1949;': 1, 'vittadini': 1, 'andres': 1, '1999;': 5, 'gomez': 1, '1862': 3, 'federation': 1, 'rennie': 1, '1945;': 1, 'romero': 4, 'viewed': 2, 'anarchy': 2, 'form': 1, 'conducive': 1, 'halperã\\xadn': 3, 'donghi': 3, '1970;': 3, 'haring': 1, '1972': 1, 'appeared': 1, 'end': 3, 'instability': 4, 'strongman': 1, 'promised': 1, 'keep': 2, 'disorder': 2, 'minimum': 1, 'ensure': 1, 'peaceful': 2, 'transfers': 2, 'cortã©s': 2, 'conde': 2, '1998a': 3, 'b;': 4, 'adelman': 3, '1999': 3, 'commercial': 1, 'codes': 1, 'were': 13, 'enacted': 1, '1871': 1, 'respectively': 1, 'under': 10, 'influence': 1, 'roman': 1, 'napoleonic': 1, 'code': 1, 'liberal': 1, 'principles': 2, 'kelly': 1, '1992;': 3, 'berkowitz': 1, '2003a': 1, 'miller': 2, 'decisive': 2, 'shifts': 1, 'toward': 2, 'enhanced': 1, 'state': 6, 'capacity': 1, '1884': 1, 'education': 2, 'modern': 1, 'railway': 1, 'along': 1, 'postal': 1, 'sowing': 1, 'seeds': 3, '1875': 1, 'onward': 1, 'taylor': 5, 'przeworski': 3, 'limongi': 2, '1997;': 3, 'della': 1, 'paolera': 1, '2007;': 4, 'prados': 2, 'escosura': 2, 'unprecedented': 3, 'brought': 3, 'about': 2, 'flows': 1, 'foreign': 1, 'italy': 2, 'central': 2, 'providing': 1, 'largest': 1, 'supply': 1, 'newcomers': 1, 'germani': 2, '1966;': 1, 'sã¡nchez-alonso': 2, 'less': 3, 'quarter': 1, 'moved': 1, '1852': 1, 'regionâ€™s': 1, 'powerhouse': 1, 'remarkable': 1, 'parity': 1, 'terms': 2, 'same': 2, 'western': 4, 'europeâ€™s': 1, 'exceeded': 1, 'portugal': 1, 'wide': 1, 'margin': 1, 'maddison': 1, '2007a': 1, 'bolt': 1, 'van': 1, 'zanden': 1, '2014': 2, 'dawn': 1, 'seemed': 1, 'solidly': 1, 'positioned': 1, '2012': 3, 'said': 1, 'become': 2, 'considered': 1, 'laughable': 1, 'given': 1, 'highest': 1, 'literacy': 1, 'rates': 1, 'dã\\xadaz': 6, 'alejandro': 5, '1970': 1, '1850': 1, 'drastically': 1, 'american': 1, 'peers': 1, 'approached': 1, 'levels': 3, 'time': 1, 'fukuyama': 2, 'however': 2, 'comparable': 1, 'turkey': 1, 'russia': 1, 'most': 1, 'second': 2, 'half': 1, 'plagued': 1, 'coups': 1, 'countercoups': 1, 'violent': 1, 'oscillations': 1, 'left': 1, 'right': 1, 'turmoil': 1, 'edge': 1, 'times': 1, 'oâ€™donnell': 3, '1973': 2, '1860': 1, 'needed': 1, '55': 1, 'catch': 3, 'up': 4, 'swiss': 1, 'continued': 3, 'trajectory': 2, 'need': 1, '90': 1, 'so': 1, 'obvious': 1, 'went': 1, 'wrong': 1, 'decade': 4, '1930s': 3, 'conservative': 7, 'alliance': 2, 'known': 1, 'concordancia': 4, 'perpetrated': 1, 'hold': 2, 'recognition': 1, 'regime': 5, 'supreme': 11, 'court': 12, 'courtâ€™s': 1, 'silence': 1, 'regarding': 1, 'systematic': 2, 'exercise': 1, 'redistributional': 1, 'tendencies': 1, 'paved': 1, 'way': 1, 'peronist': 3, 'reforms': 3, '1973;': 7, '1998': 1, 'widespread': 3, 'volatile': 3, 'redistributing': 1, 'rents': 1, 'privileged': 1, 'well-organized': 1, 'condemning': 1, 'initially': 1, 'nondemocratic': 2, 'accompanied': 3, 'inward-looking': 1, 'industrialization': 1, 'import': 2, 'substitution': 1, 'perã³nâ€™s': 2, 'populist-style': 2, 'redistribution': 5, 'further': 3, 'balances': 3, 'proved': 2, 'detrimental': 1, 'gibson': 1, 'whether': 1, 'experience': 1, 'adopted': 2, 'undermined': 2, 'breakdown': 2, 'contracting': 1, 'property': 8, 'rights-related': 1, 'maintained': 1, 'stability': 1, '23': 1, 'reversal': 1, 'stark': 1, 'contrast': 2, 'post-1853': 1, 'argentine': 4, 'constitutionalism': 1, 'lacked': 1, 'appropriate': 1, 'informal': 1, 'underpinnings': 1, 'ots': 1, 'capdequã\\xad': 1, '1943': 2, 'principle': 1, 'limited': 2, 'iaryczower': 1, 'jones': 1, 'spiller': 4, 'tommasi': 6, 'norm': 3, 'persistent': 2, 'militarism': 3, 'amateur': 1, 'self-government': 2, 'absolutism': 3, 'garcã\\xada': 2, 'hamilton': 2, 'inherent': 1, 'tensions': 1, 'fundamentally': 2, 'conflicting': 1, 'failure': 2, 'create': 1, 'common': 1, 'market': 2, 'difficulties': 1, 'developing': 1, 'procedural': 1, 'chavez': 1, '2004;': 4, 'alston': 5, 'mueller': 1, '2006;': 2, '2010': 5, 'marbury': 1, 'v': 1, 'madison-style': 1, 'reviewfootnote1': 1, 'traditional': 1, 'disrespect': 1, 'bayle': 1, '1952;': 2, 'zorraquã\\xadn': 1, 'becãº': 1, '1978;': 2, 'rosenn': 1, '1990': 1, 'wenzel': 1, 'suggests': 2, 'embryonic': 1, 'stage': 1, 'long': 4, '1907': 1, '1946': 2, 'saw': 4, 'reemergence': 1, 'traits': 2, 'constrained': 1, 'before': 2, 'mercantilist': 1, 'interventions': 1, 'disregard': 1, 'accelerated': 1, 'return': 2, 'former': 1, 'cultural': 1, 'norms': 2, 'rock': 4, '1987': 1, '1993': 4, 'stemmed': 1, 'directly': 2, 'antecedents': 1, 'unable': 2, 'forge': 1, 'customs': 1, 'necessary': 1, 'open-access': 1, 'genuine': 1, 'lawfootnote2': 1, 'founding': 1, 'offshoots': 1, 'enjoyed': 1, 'tradition': 1, 'simply': 2, 'did': 2, 'exist': 1, 'where': 1, 'regional': 1, 'interests': 2, 'dirigisme': 1, 'divide-and-rule': 1, 'politics': 1, 'cantã³n': 2, '1975': 1, '1995': 1, 'legal': 1, 'place': 7, 'election': 4, '1914': 3, 'first': 5, 'reformed': 1, 'legislation': 1, 'illiberal': 1, 'best': 1, 'zakaria': 1, 'governments': 2, 'secured': 1, 'through': 7, 'fraudulent': 2, 'elections': 5, 'voter': 4, 'primarily': 1, 'took': 4, 'pampas': 3, 'base': 1, 'national': 2, 'autonomist': 1, 'autonomista': 1, 'nacional': 1, 'panfootnote3': 1, 'even': 3, 'though': 3, 'popular': 2, 'participation': 1, 'turnout': 2, 'extremely': 1, 'particularly': 1, 'buenos': 1, 'aires': 1, 'sabato': 1, '2001': 4, 'invariably': 1, 'ritualistic': 1, 'games': 1, 'minority': 1, 'electorate': 1, 'participating': 1, 'walter': 2, '2002': 4, 'late': 1, 'pressure': 1, 'mounted': 1, 'pluralist': 1, 'participatory': 1, 'rising': 1, 'discontent': 1, 'revolved': 1, 'around': 1, 'opposition': 1, 'ucr': 4, 'leadership': 1, 'hipã³lito': 1, 'yrigoyen': 6, 'launched': 2, 'revolts': 1, 'instrumental': 1, 'player': 1, 'calling': 1, 'establishment': 1, 'secret': 3, 'ballot': 2, 'passed': 2, 'introducing': 1, 'outlawing': 1, 'practices': 2, 'engerman': 1, 'sokoloff': 1, 'tends': 1, 'foster': 1, 'accountability': 2, 'knack': 1, 'keefer': 1, 'barro': 1, 'maravall': 1, '2003;': 3, 'may': 1, 'also': 4, 'encourage': 2, 'rights': 9, 'especially': 1, 'introduced': 4, 'context': 1, 'poverty': 1, 'middle': 1, 'class': 1, 'lipset': 1, '1959;': 1, '2005;': 1, 'evans': 1, 'rose': 2, 'glaeser': 1, 'mukand': 1, 'rodrik': 3, '2015;': 1, 'maseland': 1, 'clearly': 1, 'manifestation': 1, 'freedom': 5, 'expense': 1, 'friedman': 1, '1962;': 1, 'kenn': 1, 'farr': 1, '1998;': 3, 'gwartney': 1, 'goel': 1, 'nelson': 1, 'passage': 2, 'notable': 1, 'registration': 1, 'molinelli': 1, 'reshaped': 1, 'legislature': 1, 'leader': 2, 'who': 7, 'played': 2, 'substantial': 1, 'ascended': 1, 'presidency': 3, '1916': 1, 'while': 1, 'president': 7, 'substantially': 2, 'expanded': 1, 'size': 1, 'bureaucracy': 1, 'generalized': 1, 'practice': 1, 'appointing': 1, 'administrative': 1, 'employees': 1, 'nonexistent': 1, 'jobs': 2, 'reward': 1, 'favors': 1, 'his': 4, 'term': 4, 'freezing': 1, 'estate': 1, 'rent': 2, 'only': 2, 'justice': 2, 'dissenting': 1, 'affirmed': 2, 'violate': 1, 'hence': 1, 'facilitated': 1, 'some': 1, 'transparency': 1, 'llach': 1, 'oâ€™connell': 1, '1986;': 2, 'osiel': 1, 'laid': 1, 'mohtadi': 1, 'roe': 2, 'spinesi': 1, 'both': 1, 'curtail': 1, 'constrain': 1, 'olson': 1, '1982;': 2, 'murphy': 1, '1993;': 3, 'alesina': 1, '1994;': 3, 'sturzenegger': 1, 'saint': 1, 'paul': 1, 'verdier': 1, '1996;': 2, 'aghion': 1, 'zweimã¼ller': 1, 'run': 1, 'reelection': 1, 'himself': 1, '1922': 1, 'succeeded': 1, 'another': 3, 'marcelo': 1, 'alvear': 1, 'alvearâ€™s': 1, 'expired': 1, '1928': 1, 'elected': 4, 'coup': 5, 'ousted': 3, 'marking': 1, 'beginning': 1, 'old': 2, 'reemerged': 1, 'ciria': 1, '1974;': 2, 'bethell': 1, 'radical': 1, 'ideological': 1, 'postcoup': 1, 'leaned': 1, 'corporatist': 1, 'alhadeff': 1, '1989;': 2, 'goldwert': 1, 'previous': 1, 'democratic': 2, 'active': 2, 'dirigiste': 1, 'intervention': 2, 'cantãº': 1, 'saiegh': 1, '2011': 1, 'no': 1, 'regard': 1, 'paid': 1, 'disadvantages': 1, 'actions': 1, 'outlawed': 1, 'parties': 2, 'annulled': 1, 'suspended': 2, 'resorted': 1, 'use': 1, '1931': 2, '1937': 1, 'presidential': 1, 'schilizzi': 1, 'smith': 2, 'rouquiã©': 1, 'sanguinetti': 1, 'potash': 2, 'privitello': 1, '1932': 1, 'boards': 1, 'created': 1, 'regulate': 1, 'meat': 1, 'cereals': 1, 'few': 1, 'products': 1, 'consolidated': 1, 'inefficient': 1, 'many': 1, 'lingered': 1, 'throughout': 1, 'agustã\\xadn': 1, 'justo': 1, 'efforts': 1, 'then': 1, 'presidents': 1, 'roberto': 1, 'ortiz': 1, 'ramã³n': 1, 'castillo': 1, 'amid': 2, 'backdrop': 1, 'owen': 1, '1957;': 2, 'teichman': 1, '1981;': 1, 'pereira': 1, 'horowitz': 1, '1992': 2, 'emergence': 1, 'colonel': 1, 'perã³n': 10, 'placed': 1, 'charge': 1, 'department': 1, 'eventually': 1, 'vice': 2, 'gained': 1, 'popularity': 1, '1969': 1, 'almost': 1, 'complete': 1, 'demise': 1, 'matsushita': 1, '1983': 3, 'clientelist': 2, 'wife': 2, 'eva': 1, 'excused': 2, 'well': 1, 'violence': 3, 'name': 1, 'gerchunoff': 2, 'sachs': 1, 'bambaci': 1, 'krueger': 1, 'interfered': 1, 'provisions': 1, 'little': 1, 'kenworthy': 1, '1975;': 1, 'peronists': 2, 'put': 3, 'justices': 4, 'trial': 1, 'resignation': 1, 'replaced': 1, 'them': 1, 'friendly': 1, 'fayt': 1, '1967footnote4': 1, 'ally': 1, 'oligarchy': 2, 'barrier': 1, 'ferrero': 1, 'pellet': 1, 'lastra': 1, 'they': 3, 'jailed': 1, 'opponents': 3, 'murmis': 1, 'portantiero': 1, '1972;': 1, 'wynia': 1, 'eaton': 1, 'widened': 1, 'scope': 1, 'nationalizations': 1, 'regulatory': 1, 'distorted': 1, 'contract': 4, 'buchanan': 1, '1985': 3, 'propaganda': 1, 'schools': 1, 'justify': 1, 'reformsfootnote5': 1, 'price': 2, 'fixing': 1, 'evictions': 1, 'nonpaying': 1, 'tenants': 1, 'benefit': 2, 'constituent': 1, 'renters': 1, 'rural': 1, 'collier': 2, 'mazzuca': 1, '2007': 1, 'meanwhile': 1, 'controls': 2, 'increased': 1, 'transaction': 2, 'costs': 2, 'bank': 1, 'cover': 1, 'provincial': 1, 'unconstitutionally': 1, 'clientelism': 1, 'doled': 1, 'out': 1, 'nationalized': 1, 'businesses': 1, 'samuels': 1, 'snyder': 1, 'rampant': 1, 'inflation': 1, '1996': 1, 'subversive': 2, 'macroeconomic': 1, 'peronist-style': 1, 'populism': 1, 'exploited': 2, 'weakness': 1, 'ilsley': 1, 'montaã±o': 1, 'garay': 1, 'negretto': 1, 'dismantling': 1, 'point': 1, 'crassweller': 1, 'calvo': 1, 'murillo': 1, 'elena': 1, 'era': 1, 'ended': 1, '1955': 3, 'vicious': 1, 'blend': 1, 'characterizes': 1, 'dictatorshipsfootnote6': 1, 'brink': 1, 'civilian': 2, 'uprising': 1, 'provisional': 1, 'rely': 1, 'resignations': 1, 'export': 1, 'restrictions': 1, 'exchange': 2, 'rate': 4, 'regimeâ€™s': 1, 'incessant': 1, 'reliance': 1, 'emergency': 1, 'liberalization': 1, 'gain': 1, 'momentum': 1, 'spinelli': 1, '1966': 1, 'instigating': 1, 'military-appointed': 1, 'presidencies': 1, 'turn': 1, 'authoritarian-bureaucratic': 1, 'smulovitz': 1, 'szusterman': 1, 'prosecution': 1, '1969;': 2, 'bessone': 1, 'removal': 1, 'subjugation': 1, 'ministry': 1, 'interior': 1, 'simple': 1, 'decree': 1, 'annulment': 1, 'persistence': 1, 'brennan': 1, 'rougier': 1, '2009;': 1, 'protectionist': 1, 'policy': 4, 'espousing': 1, 'snow': 1, '1965': 1, 'returned': 1, 'exile': 1, 'third': 1, 'isabel': 2, 'martã\\xadnez': 1, 'lupu': 1, 'stokes': 1, 'guerrilla': 1, 'battles': 1, 'escalated': 1, 'perã³ns': 1, 'fragile': 1, 'campos': 1, 'exclusionary': 1, 'personal': 1, 'loyalty': 1, '1974': 1, 'died': 1, 'she': 1, '1976': 1, 'junta': 2, 'came': 1, 'veneer': 1, 'vacuum': 1, 'commit': 1, 'violations': 1, 'torture': 1, 'dissidents': 1, 'held': 1, 'clandestine': 1, 'jails': 1, 'full': 1, 'ban': 1, 'stratification': 1, 'munck': 1, 'apart': 1, 'preserving': 1, 'initiated': 1, 'breakout': 1, 'disappearances': 1, 'civilians': 1, 'pion-berlin': 1, 'without': 4, 'monitor': 1, 'branch': 1, 'abandoned': 1, 'completely': 1, 'dismantled': 1, 'manzetti': 1, 'arceneaux': 1, 'completed': 1, 'depression': 3, 'secure': 2, 'scartascini': 1, 'diminish': 1, 'shades': 1, 'weakly': 1, 'pursue': 1, 'tailored': 1, 'via': 1, 'iron': 1, 'michels': 1, '1911': 1, 'channel': 1, 'conflicts': 1, 'resolution': 1, 'transitioned': 2, 'back': 1, 'forth': 1, 'emanating': 1, 'recurring': 1, 'absolutist': 1, 'remain': 1, 'deeply': 1, 'embedded': 1, 'thereby': 1, 'undermining': 2, 'consequences': 1, 'prolonged': 1, 'breakdownsâ€”particularly': 1, 'breakdownsâ€”remain': 1, 'essential': 1, '24': 1, 'transmission': 2, 'mechanisms': 1, 'work': 2, 'channels': 1, 'proposed': 3, 'link': 1, 'outcomes': 1, 'weak': 3, 'enforcement': 3, 'insecure': 1, 'roles': 1, '20th': 1, 'deploy': 1, 'contract-intensive': 1, 'money': 1, 'cim': 2, 'rough': 1, 'indicator': 1, 'security': 1, 'earlier': 1, 'clague': 1, 'show': 1, 'declined': 1, 'considerably': 1, 'lasting': 1, '1960s': 1, 'resulted': 2, 'acquire': 1, 'high-quality': 1, 'hyperinflation': 1, '1970s': 1, '1990s': 1, 'reduced': 1, 'cimâ€™s': 1, 'ability': 1, 'compliance': 1, 'additionally': 1, 'impeded': 1, 'slightly': 1, 'different': 3, 'view': 1, 'argue': 1, 'might': 1, 'rooted': 2, 'particular': 1, 'changed': 1, 'profoundly': 1, '1947': 1, 'exacerbated': 1, 'excessively': 1, 'slow': 2, 'mediocre': 1, 'attributed': 1, 'generally': 2, 'poor-quality': 1, 'distortionary': 2, 'b': 3, 'parsimonious': 1, 'highlighted': 1, 'kydland': 1, 'zarazaga': 1, 'employing': 1, 'neoclassical': 1, 'lost': 2, '1980s': 1, 'found': 1, 'suggesting': 1, 'bulk': 1, 'triggered': 1, 'intensity': 2, 'costly': 1, 'total': 1, 'factor': 1, 'inability': 2, 'explanations': 1, 'emphasize': 1, 'definitive': 1, 'meaningful': 1, 'alternatives': 1, 'zymelman': 1, '1967;': 1, 'origins': 1, 'immigrants': 1, 'c': 2, 'unrestrictive': 1, 'scarcity': 2, 'd': 2, 'high': 1, 'demographic': 1, 'dependency': 1, 'saving': 1, 'williamson': 1, 'strand': 1, 'arrangements': 1, 'inherited': 1, 'fajgelbaum': 1, 'often': 1, 'inflexible': 1, 'peculiar': 1, 'allocation': 1, 'scheme': 1, 'favoring': 1, 'number': 2, 'landowners': 2, 'ferns': 1, 'solberg': 1, '2000;': 1, '2014;': 1, 'tenant': 1, 'lack': 1, 'agricultural': 1, 'knowledge': 1, 'e': 1, 'colomer': 1, '2010;': 1, 'f': 1, 'trade': 1, 'pushed': 1, 'relative': 1, 'lowered': 1, 'relocated': 1, 'manufacturing': 1, 'possibly': 1, 'leading': 1, 'premature': 1, 'deindustrialization': 1, 'male': 2, 'crawley': 1, 'pucciarelli': 1, 'yablã³n': 1, 'made': 1, 'introduce': 1, 'compulsory': 1, 'creation': 1, 'list': 1, 'voters': 1, 'padrã³n': 1}\n"
     ]
    }
   ],
   "source": [
    "# Create a dictionary with a WORD COUNT\n",
    "words = words.split(' ')\n",
    "D = {}\n",
    "for w in words:\n",
    "  if w not in D:\n",
    "    D[w] = 1\n",
    "  else:\n",
    "    D[w]+=1\n",
    "print(D)"
   ]
  },
  {
   "cell_type": "code",
   "execution_count": 23,
   "metadata": {},
   "outputs": [
    {
     "name": "stdout",
     "output_type": "stream",
     "text": [
      "5229\n"
     ]
    }
   ],
   "source": [
    "# Total number of words\n",
    "nwords = sum(D.values())\n",
    "print(nwords)"
   ]
  },
  {
   "cell_type": "code",
   "execution_count": 24,
   "metadata": {},
   "outputs": [
    {
     "name": "stdout",
     "output_type": "stream",
     "text": [
      "(29.710227272727273, 5.803404092560719)\n"
     ]
    }
   ],
   "source": [
    "# One possible measure of TEXT COMPLEXITY: amount of words per sentence, amount of characters per word\n",
    "def text_complexity(file):\n",
    "  sentences = file.split('. ')\n",
    "  sentence_count = 0\n",
    "  word_count = 0\n",
    "  character_count = 0\n",
    "  for sentence in sentences:\n",
    "    words = sentence.split(' ')\n",
    "    sentence_count = sentence_count+1\n",
    "    for word in words:\n",
    "      word_cleaned = word.strip('.')\n",
    "      character_count = character_count+len(word)\n",
    "      word_count = word_count + 1\n",
    "  words_per_sentence = word_count/sentence_count\n",
    "  characters_per_word = character_count/word_count\n",
    "  return(words_per_sentence, characters_per_word)\n",
    "print(text_complexity(text))"
   ]
  },
  {
   "cell_type": "code",
   "execution_count": 3,
   "metadata": {},
   "outputs": [
    {
     "name": "stdout",
     "output_type": "stream",
     "text": [
      "4\n",
      "['coy', 'o', 'te']\n",
      "3\n"
     ]
    }
   ],
   "source": [
    "# Count word syllables\n",
    "import syllables\n",
    "print(syllables.estimate(\"catastrophic\"))\n",
    "\n",
    "# Or another package, separate words' syllables\n",
    "from nltk import SyllableTokenizer\n",
    "SSP = SyllableTokenizer()\n",
    "syllables = SSP.tokenize('coyote')\n",
    "print(syllables)\n",
    "print(len(syllables))"
   ]
  },
  {
   "cell_type": "code",
   "execution_count": 2,
   "metadata": {},
   "outputs": [
    {
     "name": "stderr",
     "output_type": "stream",
     "text": [
      "[nltk_data] Downloading package punkt to\n",
      "[nltk_data]     C:\\Users\\Usuario\\AppData\\Roaming\\nltk_data...\n",
      "[nltk_data]   Package punkt is already up-to-date!\n"
     ]
    },
    {
     "name": "stdout",
     "output_type": "stream",
     "text": [
      "['i', \"'m\", 'car', \"'s\", 'lay', 'back', 'on', '!', 'the', 'Buenos', 'Aires', 'grass', '.', 'and', 'looking', 'at', 'the', 'stars', 'and', 'their', ',', 'i', 'went', 'for', 'a', 'walk', 'with', 'my', 'cat', 'who', 'did', \"n't\", 'like', 'me']\n"
     ]
    },
    {
     "name": "stderr",
     "output_type": "stream",
     "text": [
      "None of PyTorch, TensorFlow >= 2.0, or Flax have been found. Models won't be available and only tokenizers, configuration and file/data utilities can be used.\n"
     ]
    },
    {
     "data": {
      "application/vnd.jupyter.widget-view+json": {
       "model_id": "b6641576cda846a492b054dd1321b39d",
       "version_major": 2,
       "version_minor": 0
      },
      "text/plain": [
       "Downloading (…)okenizer_config.json:   0%|          | 0.00/29.0 [00:00<?, ?B/s]"
      ]
     },
     "metadata": {},
     "output_type": "display_data"
    },
    {
     "name": "stderr",
     "output_type": "stream",
     "text": [
      "c:\\Python\\Python396\\lib\\site-packages\\huggingface_hub\\file_download.py:137: UserWarning: `huggingface_hub` cache-system uses symlinks by default to efficiently store duplicated files but your machine does not support them in C:\\Users\\Usuario\\.cache\\huggingface\\hub. Caching files will still work but in a degraded version that might require more space on your disk. This warning can be disabled by setting the `HF_HUB_DISABLE_SYMLINKS_WARNING` environment variable. For more details, see https://huggingface.co/docs/huggingface_hub/how-to-cache#limitations.\n",
      "To support symlinks on Windows, you either need to activate Developer Mode or to run Python as an administrator. In order to see activate developer mode, see this article: https://docs.microsoft.com/en-us/windows/apps/get-started/enable-your-device-for-development\n",
      "  warnings.warn(message)\n"
     ]
    },
    {
     "data": {
      "application/vnd.jupyter.widget-view+json": {
       "model_id": "c49363c988ee45f7b07e27294c81c9d0",
       "version_major": 2,
       "version_minor": 0
      },
      "text/plain": [
       "Downloading (…)solve/main/vocab.txt:   0%|          | 0.00/996k [00:00<?, ?B/s]"
      ]
     },
     "metadata": {},
     "output_type": "display_data"
    },
    {
     "data": {
      "application/vnd.jupyter.widget-view+json": {
       "model_id": "17fdf48563a34b949be795902c1f1124",
       "version_major": 2,
       "version_minor": 0
      },
      "text/plain": [
       "Downloading (…)/main/tokenizer.json:   0%|          | 0.00/1.96M [00:00<?, ?B/s]"
      ]
     },
     "metadata": {},
     "output_type": "display_data"
    },
    {
     "data": {
      "application/vnd.jupyter.widget-view+json": {
       "model_id": "0aec40bd7ad94c2993b6c7c111d47532",
       "version_major": 2,
       "version_minor": 0
      },
      "text/plain": [
       "Downloading (…)lve/main/config.json:   0%|          | 0.00/625 [00:00<?, ?B/s]"
      ]
     },
     "metadata": {},
     "output_type": "display_data"
    },
    {
     "name": "stdout",
     "output_type": "stream",
     "text": [
      "['i', \"'\", 'm', 'car', \"'\", 's', 'lay', 'back', 'on', '!', 'the', 'Buenos', 'Aires', 'grass', '.', 'and', 'looking', 'at', 'the', 'stars', 'and', 'their', ',', 'i', 'went', 'for', 'a', 'walk', 'with', 'my', 'cat', 'who', 'didn', \"'\", 't', 'like', 'me']\n"
     ]
    }
   ],
   "source": [
    "# Tokenize a sentence (separate a sentence into relevant tokens)\n",
    "s = 'i\\'m car\\'s lay back on! the Buenos Aires grass. and looking at the stars and their, i went for a walk with my cat who didn\\'t like me'\n",
    "import nltk\n",
    "nltk.download('punkt')\n",
    "from nltk.tokenize import word_tokenize # (good enough for most applications)\n",
    "words = word_tokenize(s)\n",
    "print(words)\n",
    "\n",
    "# Alternative: Bert tokenizer (more complex)\n",
    "from transformers import BertTokenizer\n",
    "tokenizer = BertTokenizer.from_pretrained('bert-base-multilingual-cased')\n",
    "print(tokenizer.tokenize(s))"
   ]
  },
  {
   "cell_type": "code",
   "execution_count": 4,
   "metadata": {},
   "outputs": [
    {
     "name": "stdout",
     "output_type": "stream",
     "text": [
      "corpora corpus\n",
      "wanted want\n"
     ]
    },
    {
     "name": "stderr",
     "output_type": "stream",
     "text": [
      "[nltk_data] Downloading package wordnet to\n",
      "[nltk_data]     C:\\Users\\Usuario\\AppData\\Roaming\\nltk_data...\n",
      "[nltk_data]   Package wordnet is already up-to-date!\n",
      "WARNING: Ignoring invalid distribution -ip (c:\\python\\python396\\lib\\site-packages)\n",
      "WARNING: Ignoring invalid distribution -ip (c:\\python\\python396\\lib\\site-packages)\n",
      "WARNING: Ignoring invalid distribution -ip (c:\\python\\python396\\lib\\site-packages)\n",
      "WARNING: Ignoring invalid distribution -ip (c:\\python\\python396\\lib\\site-packages)\n",
      "WARNING: Ignoring invalid distribution -ip (c:\\python\\python396\\lib\\site-packages)\n",
      "WARNING: Ignoring invalid distribution -ip (c:\\python\\python396\\lib\\site-packages)\n"
     ]
    },
    {
     "name": "stdout",
     "output_type": "stream",
     "text": [
      "Collecting es-core-news-sm==3.7.0\n",
      "  Downloading https://github.com/explosion/spacy-models/releases/download/es_core_news_sm-3.7.0/es_core_news_sm-3.7.0-py3-none-any.whl (12.9 MB)\n",
      "     ---------------------------------------- 0.0/12.9 MB ? eta -:--:--\n",
      "     - -------------------------------------- 0.4/12.9 MB 12.6 MB/s eta 0:00:01\n",
      "     --- ------------------------------------ 1.0/12.9 MB 13.3 MB/s eta 0:00:01\n",
      "     ----- ---------------------------------- 1.9/12.9 MB 15.3 MB/s eta 0:00:01\n",
      "     -------- ------------------------------- 2.8/12.9 MB 16.2 MB/s eta 0:00:01\n",
      "     ---------- ----------------------------- 3.5/12.9 MB 17.3 MB/s eta 0:00:01\n",
      "     ------------- -------------------------- 4.5/12.9 MB 17.8 MB/s eta 0:00:01\n",
      "     ---------------- ----------------------- 5.3/12.9 MB 17.9 MB/s eta 0:00:01\n",
      "     ------------------- -------------------- 6.2/12.9 MB 18.0 MB/s eta 0:00:01\n",
      "     --------------------- ------------------ 7.1/12.9 MB 18.0 MB/s eta 0:00:01\n",
      "     ------------------------ --------------- 7.9/12.9 MB 18.2 MB/s eta 0:00:01\n",
      "     --------------------------- ------------ 8.8/12.9 MB 18.2 MB/s eta 0:00:01\n",
      "     ------------------------------ --------- 9.7/12.9 MB 18.2 MB/s eta 0:00:01\n",
      "     ------------------------------- ------- 10.6/12.9 MB 18.7 MB/s eta 0:00:01\n",
      "     ---------------------------------- ---- 11.5/12.9 MB 18.7 MB/s eta 0:00:01\n",
      "     ------------------------------------- - 12.3/12.9 MB 18.7 MB/s eta 0:00:01\n",
      "     --------------------------------------  12.9/12.9 MB 18.7 MB/s eta 0:00:01\n",
      "     --------------------------------------  12.9/12.9 MB 18.7 MB/s eta 0:00:01\n",
      "     --------------------------------------- 12.9/12.9 MB 16.4 MB/s eta 0:00:00\n",
      "Requirement already satisfied: spacy<3.8.0,>=3.7.0 in c:\\python\\python396\\lib\\site-packages (from es-core-news-sm==3.7.0) (3.7.1)\n",
      "Requirement already satisfied: weasel<0.4.0,>=0.1.0 in c:\\python\\python396\\lib\\site-packages (from spacy<3.8.0,>=3.7.0->es-core-news-sm==3.7.0) (0.3.2)\n",
      "Requirement already satisfied: cymem<2.1.0,>=2.0.2 in c:\\python\\python396\\lib\\site-packages (from spacy<3.8.0,>=3.7.0->es-core-news-sm==3.7.0) (2.0.8)\n",
      "Requirement already satisfied: preshed<3.1.0,>=3.0.2 in c:\\python\\python396\\lib\\site-packages (from spacy<3.8.0,>=3.7.0->es-core-news-sm==3.7.0) (3.0.9)\n",
      "Requirement already satisfied: pathy>=0.10.0 in c:\\python\\python396\\lib\\site-packages (from spacy<3.8.0,>=3.7.0->es-core-news-sm==3.7.0) (0.10.2)\n",
      "Requirement already satisfied: thinc<8.3.0,>=8.1.8 in c:\\python\\python396\\lib\\site-packages (from spacy<3.8.0,>=3.7.0->es-core-news-sm==3.7.0) (8.2.1)\n",
      "Requirement already satisfied: langcodes<4.0.0,>=3.2.0 in c:\\python\\python396\\lib\\site-packages (from spacy<3.8.0,>=3.7.0->es-core-news-sm==3.7.0) (3.3.0)\n",
      "Requirement already satisfied: murmurhash<1.1.0,>=0.28.0 in c:\\python\\python396\\lib\\site-packages (from spacy<3.8.0,>=3.7.0->es-core-news-sm==3.7.0) (1.0.10)\n",
      "Requirement already satisfied: catalogue<2.1.0,>=2.0.6 in c:\\python\\python396\\lib\\site-packages (from spacy<3.8.0,>=3.7.0->es-core-news-sm==3.7.0) (2.0.10)\n",
      "Requirement already satisfied: packaging>=20.0 in c:\\python\\python396\\lib\\site-packages (from spacy<3.8.0,>=3.7.0->es-core-news-sm==3.7.0) (23.0)\n",
      "Requirement already satisfied: srsly<3.0.0,>=2.4.3 in c:\\python\\python396\\lib\\site-packages (from spacy<3.8.0,>=3.7.0->es-core-news-sm==3.7.0) (2.4.8)\n",
      "Requirement already satisfied: tqdm<5.0.0,>=4.38.0 in c:\\python\\python396\\lib\\site-packages (from spacy<3.8.0,>=3.7.0->es-core-news-sm==3.7.0) (4.65.0)\n",
      "Requirement already satisfied: spacy-legacy<3.1.0,>=3.0.11 in c:\\python\\python396\\lib\\site-packages (from spacy<3.8.0,>=3.7.0->es-core-news-sm==3.7.0) (3.0.12)\n",
      "Requirement already satisfied: numpy>=1.19.0 in c:\\python\\python396\\lib\\site-packages (from spacy<3.8.0,>=3.7.0->es-core-news-sm==3.7.0) (1.23.3)\n",
      "Requirement already satisfied: requests<3.0.0,>=2.13.0 in c:\\python\\python396\\lib\\site-packages (from spacy<3.8.0,>=3.7.0->es-core-news-sm==3.7.0) (2.31.0)\n",
      "Requirement already satisfied: smart-open<7.0.0,>=5.2.1 in c:\\python\\python396\\lib\\site-packages (from spacy<3.8.0,>=3.7.0->es-core-news-sm==3.7.0) (6.4.0)\n",
      "Requirement already satisfied: wasabi<1.2.0,>=0.9.1 in c:\\python\\python396\\lib\\site-packages (from spacy<3.8.0,>=3.7.0->es-core-news-sm==3.7.0) (1.1.2)\n",
      "Requirement already satisfied: spacy-loggers<2.0.0,>=1.0.0 in c:\\python\\python396\\lib\\site-packages (from spacy<3.8.0,>=3.7.0->es-core-news-sm==3.7.0) (1.0.5)\n",
      "Requirement already satisfied: pydantic!=1.8,!=1.8.1,<3.0.0,>=1.7.4 in c:\\python\\python396\\lib\\site-packages (from spacy<3.8.0,>=3.7.0->es-core-news-sm==3.7.0) (2.4.2)\n",
      "Requirement already satisfied: typer<0.10.0,>=0.3.0 in c:\\python\\python396\\lib\\site-packages (from spacy<3.8.0,>=3.7.0->es-core-news-sm==3.7.0) (0.9.0)\n",
      "Requirement already satisfied: setuptools in c:\\python\\python396\\lib\\site-packages (from spacy<3.8.0,>=3.7.0->es-core-news-sm==3.7.0) (56.0.0)\n",
      "Requirement already satisfied: jinja2 in c:\\python\\python396\\lib\\site-packages (from spacy<3.8.0,>=3.7.0->es-core-news-sm==3.7.0) (3.1.2)\n",
      "Requirement already satisfied: annotated-types>=0.4.0 in c:\\python\\python396\\lib\\site-packages (from pydantic!=1.8,!=1.8.1,<3.0.0,>=1.7.4->spacy<3.8.0,>=3.7.0->es-core-news-sm==3.7.0) (0.6.0)\n",
      "Requirement already satisfied: typing-extensions>=4.6.1 in c:\\python\\python396\\lib\\site-packages (from pydantic!=1.8,!=1.8.1,<3.0.0,>=1.7.4->spacy<3.8.0,>=3.7.0->es-core-news-sm==3.7.0) (4.8.0)\n",
      "Requirement already satisfied: pydantic-core==2.10.1 in c:\\python\\python396\\lib\\site-packages (from pydantic!=1.8,!=1.8.1,<3.0.0,>=1.7.4->spacy<3.8.0,>=3.7.0->es-core-news-sm==3.7.0) (2.10.1)\n",
      "Requirement already satisfied: urllib3<3,>=1.21.1 in c:\\python\\python396\\lib\\site-packages (from requests<3.0.0,>=2.13.0->spacy<3.8.0,>=3.7.0->es-core-news-sm==3.7.0) (1.26.14)\n",
      "Requirement already satisfied: charset-normalizer<4,>=2 in c:\\python\\python396\\lib\\site-packages (from requests<3.0.0,>=2.13.0->spacy<3.8.0,>=3.7.0->es-core-news-sm==3.7.0) (3.0.1)\n",
      "Requirement already satisfied: certifi>=2017.4.17 in c:\\python\\python396\\lib\\site-packages (from requests<3.0.0,>=2.13.0->spacy<3.8.0,>=3.7.0->es-core-news-sm==3.7.0) (2022.12.7)\n",
      "Requirement already satisfied: idna<4,>=2.5 in c:\\python\\python396\\lib\\site-packages (from requests<3.0.0,>=2.13.0->spacy<3.8.0,>=3.7.0->es-core-news-sm==3.7.0) (3.4)\n",
      "Requirement already satisfied: blis<0.8.0,>=0.7.8 in c:\\python\\python396\\lib\\site-packages (from thinc<8.3.0,>=8.1.8->spacy<3.8.0,>=3.7.0->es-core-news-sm==3.7.0) (0.7.11)\n",
      "Requirement already satisfied: confection<1.0.0,>=0.0.1 in c:\\python\\python396\\lib\\site-packages (from thinc<8.3.0,>=8.1.8->spacy<3.8.0,>=3.7.0->es-core-news-sm==3.7.0) (0.1.3)\n",
      "Requirement already satisfied: colorama in c:\\users\\usuario\\appdata\\roaming\\python\\python39\\site-packages (from tqdm<5.0.0,>=4.38.0->spacy<3.8.0,>=3.7.0->es-core-news-sm==3.7.0) (0.4.6)\n",
      "Requirement already satisfied: click<9.0.0,>=7.1.1 in c:\\python\\python396\\lib\\site-packages (from typer<0.10.0,>=0.3.0->spacy<3.8.0,>=3.7.0->es-core-news-sm==3.7.0) (8.1.3)\n",
      "Requirement already satisfied: cloudpathlib<0.16.0,>=0.7.0 in c:\\python\\python396\\lib\\site-packages (from weasel<0.4.0,>=0.1.0->spacy<3.8.0,>=3.7.0->es-core-news-sm==3.7.0) (0.15.1)\n",
      "Requirement already satisfied: MarkupSafe>=2.0 in c:\\python\\python396\\lib\\site-packages (from jinja2->spacy<3.8.0,>=3.7.0->es-core-news-sm==3.7.0) (2.1.2)\n",
      "\u001b[38;5;2m✔ Download and installation successful\u001b[0m\n",
      "You can now load the package via spacy.load('es_core_news_sm')\n",
      "te tú\n",
      "quiero querer\n",
      "mucho mucho\n",
      "Collecting en-core-web-sm==3.7.0\n",
      "  Downloading https://github.com/explosion/spacy-models/releases/download/en_core_web_sm-3.7.0/en_core_web_sm-3.7.0-py3-none-any.whl (12.8 MB)\n",
      "     ---------------------------------------- 0.0/12.8 MB ? eta -:--:--\n",
      "     -- ------------------------------------- 0.7/12.8 MB 21.8 MB/s eta 0:00:01\n",
      "     ---- ----------------------------------- 1.6/12.8 MB 19.7 MB/s eta 0:00:01\n",
      "     ------- -------------------------------- 2.4/12.8 MB 19.2 MB/s eta 0:00:01\n",
      "     ---------- ----------------------------- 3.3/12.8 MB 19.2 MB/s eta 0:00:01\n",
      "     ------------- -------------------------- 4.3/12.8 MB 19.5 MB/s eta 0:00:01\n",
      "     ---------------- ----------------------- 5.2/12.8 MB 19.4 MB/s eta 0:00:01\n",
      "     ------------------ --------------------- 6.1/12.8 MB 19.4 MB/s eta 0:00:01\n",
      "     --------------------- ------------------ 7.0/12.8 MB 19.3 MB/s eta 0:00:01\n",
      "     ------------------------ --------------- 7.8/12.8 MB 19.1 MB/s eta 0:00:01\n",
      "     --------------------------- ------------ 8.7/12.8 MB 19.1 MB/s eta 0:00:01\n",
      "     ----------------------------- ---------- 9.5/12.8 MB 19.1 MB/s eta 0:00:01\n",
      "     ------------------------------- ------- 10.4/12.8 MB 18.7 MB/s eta 0:00:01\n",
      "     ---------------------------------- ---- 11.3/12.8 MB 18.7 MB/s eta 0:00:01\n",
      "     ------------------------------------- - 12.2/12.8 MB 18.7 MB/s eta 0:00:01\n",
      "     --------------------------------------  12.8/12.8 MB 18.7 MB/s eta 0:00:01\n",
      "     --------------------------------------- 12.8/12.8 MB 18.2 MB/s eta 0:00:00\n",
      "Requirement already satisfied: spacy<3.8.0,>=3.7.0 in c:\\python\\python396\\lib\\site-packages (from en-core-web-sm==3.7.0) (3.7.1)\n",
      "Requirement already satisfied: spacy-legacy<3.1.0,>=3.0.11 in c:\\python\\python396\\lib\\site-packages (from spacy<3.8.0,>=3.7.0->en-core-web-sm==3.7.0) (3.0.12)\n",
      "Requirement already satisfied: numpy>=1.19.0 in c:\\python\\python396\\lib\\site-packages (from spacy<3.8.0,>=3.7.0->en-core-web-sm==3.7.0) (1.23.3)\n",
      "Requirement already satisfied: packaging>=20.0 in c:\\python\\python396\\lib\\site-packages (from spacy<3.8.0,>=3.7.0->en-core-web-sm==3.7.0) (23.0)\n",
      "Requirement already satisfied: langcodes<4.0.0,>=3.2.0 in c:\\python\\python396\\lib\\site-packages (from spacy<3.8.0,>=3.7.0->en-core-web-sm==3.7.0) (3.3.0)\n",
      "Requirement already satisfied: jinja2 in c:\\python\\python396\\lib\\site-packages (from spacy<3.8.0,>=3.7.0->en-core-web-sm==3.7.0) (3.1.2)\n",
      "Requirement already satisfied: smart-open<7.0.0,>=5.2.1 in c:\\python\\python396\\lib\\site-packages (from spacy<3.8.0,>=3.7.0->en-core-web-sm==3.7.0) (6.4.0)\n",
      "Requirement already satisfied: thinc<8.3.0,>=8.1.8 in c:\\python\\python396\\lib\\site-packages (from spacy<3.8.0,>=3.7.0->en-core-web-sm==3.7.0) (8.2.1)\n",
      "Requirement already satisfied: pydantic!=1.8,!=1.8.1,<3.0.0,>=1.7.4 in c:\\python\\python396\\lib\\site-packages (from spacy<3.8.0,>=3.7.0->en-core-web-sm==3.7.0) (2.4.2)\n",
      "Requirement already satisfied: typer<0.10.0,>=0.3.0 in c:\\python\\python396\\lib\\site-packages (from spacy<3.8.0,>=3.7.0->en-core-web-sm==3.7.0) (0.9.0)\n",
      "Requirement already satisfied: tqdm<5.0.0,>=4.38.0 in c:\\python\\python396\\lib\\site-packages (from spacy<3.8.0,>=3.7.0->en-core-web-sm==3.7.0) (4.65.0)\n",
      "Requirement already satisfied: cymem<2.1.0,>=2.0.2 in c:\\python\\python396\\lib\\site-packages (from spacy<3.8.0,>=3.7.0->en-core-web-sm==3.7.0) (2.0.8)\n",
      "Requirement already satisfied: catalogue<2.1.0,>=2.0.6 in c:\\python\\python396\\lib\\site-packages (from spacy<3.8.0,>=3.7.0->en-core-web-sm==3.7.0) (2.0.10)\n",
      "Requirement already satisfied: wasabi<1.2.0,>=0.9.1 in c:\\python\\python396\\lib\\site-packages (from spacy<3.8.0,>=3.7.0->en-core-web-sm==3.7.0) (1.1.2)\n",
      "Requirement already satisfied: preshed<3.1.0,>=3.0.2 in c:\\python\\python396\\lib\\site-packages (from spacy<3.8.0,>=3.7.0->en-core-web-sm==3.7.0) (3.0.9)\n",
      "Requirement already satisfied: weasel<0.4.0,>=0.1.0 in c:\\python\\python396\\lib\\site-packages (from spacy<3.8.0,>=3.7.0->en-core-web-sm==3.7.0) (0.3.2)\n",
      "Requirement already satisfied: murmurhash<1.1.0,>=0.28.0 in c:\\python\\python396\\lib\\site-packages (from spacy<3.8.0,>=3.7.0->en-core-web-sm==3.7.0) (1.0.10)\n",
      "Requirement already satisfied: pathy>=0.10.0 in c:\\python\\python396\\lib\\site-packages (from spacy<3.8.0,>=3.7.0->en-core-web-sm==3.7.0) (0.10.2)\n",
      "Requirement already satisfied: requests<3.0.0,>=2.13.0 in c:\\python\\python396\\lib\\site-packages (from spacy<3.8.0,>=3.7.0->en-core-web-sm==3.7.0) (2.31.0)\n",
      "Requirement already satisfied: setuptools in c:\\python\\python396\\lib\\site-packages (from spacy<3.8.0,>=3.7.0->en-core-web-sm==3.7.0) (56.0.0)\n",
      "Requirement already satisfied: srsly<3.0.0,>=2.4.3 in c:\\python\\python396\\lib\\site-packages (from spacy<3.8.0,>=3.7.0->en-core-web-sm==3.7.0) (2.4.8)\n",
      "Requirement already satisfied: spacy-loggers<2.0.0,>=1.0.0 in c:\\python\\python396\\lib\\site-packages (from spacy<3.8.0,>=3.7.0->en-core-web-sm==3.7.0) (1.0.5)\n",
      "Requirement already satisfied: annotated-types>=0.4.0 in c:\\python\\python396\\lib\\site-packages (from pydantic!=1.8,!=1.8.1,<3.0.0,>=1.7.4->spacy<3.8.0,>=3.7.0->en-core-web-sm==3.7.0) (0.6.0)\n",
      "Requirement already satisfied: pydantic-core==2.10.1 in c:\\python\\python396\\lib\\site-packages (from pydantic!=1.8,!=1.8.1,<3.0.0,>=1.7.4->spacy<3.8.0,>=3.7.0->en-core-web-sm==3.7.0) (2.10.1)\n",
      "Requirement already satisfied: typing-extensions>=4.6.1 in c:\\python\\python396\\lib\\site-packages (from pydantic!=1.8,!=1.8.1,<3.0.0,>=1.7.4->spacy<3.8.0,>=3.7.0->en-core-web-sm==3.7.0) (4.8.0)\n",
      "Requirement already satisfied: urllib3<3,>=1.21.1 in c:\\python\\python396\\lib\\site-packages (from requests<3.0.0,>=2.13.0->spacy<3.8.0,>=3.7.0->en-core-web-sm==3.7.0) (1.26.14)\n",
      "Requirement already satisfied: idna<4,>=2.5 in c:\\python\\python396\\lib\\site-packages (from requests<3.0.0,>=2.13.0->spacy<3.8.0,>=3.7.0->en-core-web-sm==3.7.0) (3.4)\n",
      "Requirement already satisfied: charset-normalizer<4,>=2 in c:\\python\\python396\\lib\\site-packages (from requests<3.0.0,>=2.13.0->spacy<3.8.0,>=3.7.0->en-core-web-sm==3.7.0) (3.0.1)\n",
      "Requirement already satisfied: certifi>=2017.4.17 in c:\\python\\python396\\lib\\site-packages (from requests<3.0.0,>=2.13.0->spacy<3.8.0,>=3.7.0->en-core-web-sm==3.7.0) (2022.12.7)\n",
      "Requirement already satisfied: confection<1.0.0,>=0.0.1 in c:\\python\\python396\\lib\\site-packages (from thinc<8.3.0,>=8.1.8->spacy<3.8.0,>=3.7.0->en-core-web-sm==3.7.0) (0.1.3)\n",
      "Requirement already satisfied: blis<0.8.0,>=0.7.8 in c:\\python\\python396\\lib\\site-packages (from thinc<8.3.0,>=8.1.8->spacy<3.8.0,>=3.7.0->en-core-web-sm==3.7.0) (0.7.11)\n",
      "Requirement already satisfied: colorama in c:\\users\\usuario\\appdata\\roaming\\python\\python39\\site-packages (from tqdm<5.0.0,>=4.38.0->spacy<3.8.0,>=3.7.0->en-core-web-sm==3.7.0) (0.4.6)\n",
      "Requirement already satisfied: click<9.0.0,>=7.1.1 in c:\\python\\python396\\lib\\site-packages (from typer<0.10.0,>=0.3.0->spacy<3.8.0,>=3.7.0->en-core-web-sm==3.7.0) (8.1.3)\n",
      "Requirement already satisfied: cloudpathlib<0.16.0,>=0.7.0 in c:\\python\\python396\\lib\\site-packages (from weasel<0.4.0,>=0.1.0->spacy<3.8.0,>=3.7.0->en-core-web-sm==3.7.0) (0.15.1)\n",
      "Requirement already satisfied: MarkupSafe>=2.0 in c:\\python\\python396\\lib\\site-packages (from jinja2->spacy<3.8.0,>=3.7.0->en-core-web-sm==3.7.0) (2.1.2)\n",
      "Installing collected packages: en-core-web-sm\n",
      "Successfully installed en-core-web-sm-3.7.0\n",
      "\u001b[38;5;2m✔ Download and installation successful\u001b[0m\n",
      "You can now load the package via spacy.load('en_core_web_sm')\n"
     ]
    },
    {
     "name": "stderr",
     "output_type": "stream",
     "text": [
      "WARNING: Ignoring invalid distribution -ip (c:\\python\\python396\\lib\\site-packages)\n",
      "WARNING: Ignoring invalid distribution -ip (c:\\python\\python396\\lib\\site-packages)\n",
      "WARNING: Ignoring invalid distribution -ip (c:\\python\\python396\\lib\\site-packages)\n",
      "WARNING: Ignoring invalid distribution -ip (c:\\python\\python396\\lib\\site-packages)\n",
      "WARNING: Ignoring invalid distribution -ip (c:\\python\\python396\\lib\\site-packages)\n",
      "WARNING: Ignoring invalid distribution -ip (c:\\python\\python396\\lib\\site-packages)\n",
      "WARNING: Ignoring invalid distribution -ip (c:\\python\\python396\\lib\\site-packages)\n"
     ]
    },
    {
     "name": "stdout",
     "output_type": "stream",
     "text": [
      "i PRON I\n",
      "walked VERB walk\n",
      "my PRON my\n",
      "dogs NOUN dog\n",
      "yesterday NOUN yesterday\n"
     ]
    }
   ],
   "source": [
    "# Lemmatize words (extract their lemma, which is their \"root meaning\" or something like that)\n",
    "import nltk\n",
    "nltk.download('wordnet')\n",
    "from nltk.stem import WordNetLemmatizer # works OK for English\n",
    "lemmatizer = WordNetLemmatizer()\n",
    "s = 'corpora' # Corpus Christi\n",
    "print(s, lemmatizer.lemmatize(s))\n",
    "v = 'wanted' # Corpus Christi\n",
    "print(v, lemmatizer.lemmatize(v, 'v'))\n",
    "\n",
    "# Alternative: NLP library \"spacy\" to learn from text in a specific language\n",
    "import spacy\n",
    "# Download language-specific text for training: a collection of news in Spanish \n",
    "!python -m spacy download es_core_news_sm\n",
    "nlp = spacy.load(\"es_core_news_sm\")\n",
    "text = nlp(\"te quiero mucho\")\n",
    "for token in text:\n",
    "  print(token.text, token.lemma_)\n",
    "\n",
    "# For English: \n",
    "!python -m spacy download en_core_web_sm\n",
    "# Now you can load the package using\n",
    "nlp_en = spacy.load(\"en_core_web_sm\")\n",
    "text =nlp_en(\"i walked my dogs yesterday\")\n",
    "for token in text:\n",
    "  print(token.text, token.pos_, token.lemma_)"
   ]
  },
  {
   "cell_type": "code",
   "execution_count": 6,
   "metadata": {},
   "outputs": [
    {
     "name": "stdout",
     "output_type": "stream",
     "text": [
      "['i', 'me', 'my', 'myself', 'we', 'our', 'ours', 'ourselves', 'you', \"you're\", \"you've\", \"you'll\", \"you'd\", 'your', 'yours', 'yourself', 'yourselves', 'he', 'him', 'his', 'himself', 'she', \"she's\", 'her', 'hers', 'herself', 'it', \"it's\", 'its', 'itself', 'they', 'them', 'their', 'theirs', 'themselves', 'what', 'which', 'who', 'whom', 'this', 'that', \"that'll\", 'these', 'those', 'am', 'is', 'are', 'was', 'were', 'be', 'been', 'being', 'have', 'has', 'had', 'having', 'do', 'does', 'did', 'doing', 'a', 'an', 'the', 'and', 'but', 'if', 'or', 'because', 'as', 'until', 'while', 'of', 'at', 'by', 'for', 'with', 'about', 'against', 'between', 'into', 'through', 'during', 'before', 'after', 'above', 'below', 'to', 'from', 'up', 'down', 'in', 'out', 'on', 'off', 'over', 'under', 'again', 'further', 'then', 'once', 'here', 'there', 'when', 'where', 'why', 'how', 'all', 'any', 'both', 'each', 'few', 'more', 'most', 'other', 'some', 'such', 'no', 'nor', 'not', 'only', 'own', 'same', 'so', 'than', 'too', 'very', 's', 't', 'can', 'will', 'just', 'don', \"don't\", 'should', \"should've\", 'now', 'd', 'll', 'm', 'o', 're', 've', 'y', 'ain', 'aren', \"aren't\", 'couldn', \"couldn't\", 'didn', \"didn't\", 'doesn', \"doesn't\", 'hadn', \"hadn't\", 'hasn', \"hasn't\", 'haven', \"haven't\", 'isn', \"isn't\", 'ma', 'mightn', \"mightn't\", 'mustn', \"mustn't\", 'needn', \"needn't\", 'shan', \"shan't\", 'shouldn', \"shouldn't\", 'wasn', \"wasn't\", 'weren', \"weren't\", 'won', \"won't\", 'wouldn', \"wouldn't\"]\n",
      "['de', 'la', 'que', 'el', 'en', 'y', 'a', 'los', 'del', 'se', 'las', 'por', 'un', 'para', 'con', 'no', 'una', 'su', 'al', 'lo', 'como', 'más', 'pero', 'sus', 'le', 'ya', 'o', 'este', 'sí', 'porque', 'esta', 'entre', 'cuando', 'muy', 'sin', 'sobre', 'también', 'me', 'hasta', 'hay', 'donde', 'quien', 'desde', 'todo', 'nos', 'durante', 'todos', 'uno', 'les', 'ni', 'contra', 'otros', 'ese', 'eso', 'ante', 'ellos', 'e', 'esto', 'mí', 'antes', 'algunos', 'qué', 'unos', 'yo', 'otro', 'otras', 'otra', 'él', 'tanto', 'esa', 'estos', 'mucho', 'quienes', 'nada', 'muchos', 'cual', 'poco', 'ella', 'estar', 'estas', 'algunas', 'algo', 'nosotros', 'mi', 'mis', 'tú', 'te', 'ti', 'tu', 'tus', 'ellas', 'nosotras', 'vosotros', 'vosotras', 'os', 'mío', 'mía', 'míos', 'mías', 'tuyo', 'tuya', 'tuyos', 'tuyas', 'suyo', 'suya', 'suyos', 'suyas', 'nuestro', 'nuestra', 'nuestros', 'nuestras', 'vuestro', 'vuestra', 'vuestros', 'vuestras', 'esos', 'esas', 'estoy', 'estás', 'está', 'estamos', 'estáis', 'están', 'esté', 'estés', 'estemos', 'estéis', 'estén', 'estaré', 'estarás', 'estará', 'estaremos', 'estaréis', 'estarán', 'estaría', 'estarías', 'estaríamos', 'estaríais', 'estarían', 'estaba', 'estabas', 'estábamos', 'estabais', 'estaban', 'estuve', 'estuviste', 'estuvo', 'estuvimos', 'estuvisteis', 'estuvieron', 'estuviera', 'estuvieras', 'estuviéramos', 'estuvierais', 'estuvieran', 'estuviese', 'estuvieses', 'estuviésemos', 'estuvieseis', 'estuviesen', 'estando', 'estado', 'estada', 'estados', 'estadas', 'estad', 'he', 'has', 'ha', 'hemos', 'habéis', 'han', 'haya', 'hayas', 'hayamos', 'hayáis', 'hayan', 'habré', 'habrás', 'habrá', 'habremos', 'habréis', 'habrán', 'habría', 'habrías', 'habríamos', 'habríais', 'habrían', 'había', 'habías', 'habíamos', 'habíais', 'habían', 'hube', 'hubiste', 'hubo', 'hubimos', 'hubisteis', 'hubieron', 'hubiera', 'hubieras', 'hubiéramos', 'hubierais', 'hubieran', 'hubiese', 'hubieses', 'hubiésemos', 'hubieseis', 'hubiesen', 'habiendo', 'habido', 'habida', 'habidos', 'habidas', 'soy', 'eres', 'es', 'somos', 'sois', 'son', 'sea', 'seas', 'seamos', 'seáis', 'sean', 'seré', 'serás', 'será', 'seremos', 'seréis', 'serán', 'sería', 'serías', 'seríamos', 'seríais', 'serían', 'era', 'eras', 'éramos', 'erais', 'eran', 'fui', 'fuiste', 'fue', 'fuimos', 'fuisteis', 'fueron', 'fuera', 'fueras', 'fuéramos', 'fuerais', 'fueran', 'fuese', 'fueses', 'fuésemos', 'fueseis', 'fuesen', 'sintiendo', 'sentido', 'sentida', 'sentidos', 'sentidas', 'siente', 'sentid', 'tengo', 'tienes', 'tiene', 'tenemos', 'tenéis', 'tienen', 'tenga', 'tengas', 'tengamos', 'tengáis', 'tengan', 'tendré', 'tendrás', 'tendrá', 'tendremos', 'tendréis', 'tendrán', 'tendría', 'tendrías', 'tendríamos', 'tendríais', 'tendrían', 'tenía', 'tenías', 'teníamos', 'teníais', 'tenían', 'tuve', 'tuviste', 'tuvo', 'tuvimos', 'tuvisteis', 'tuvieron', 'tuviera', 'tuvieras', 'tuviéramos', 'tuvierais', 'tuvieran', 'tuviese', 'tuvieses', 'tuviésemos', 'tuvieseis', 'tuviesen', 'teniendo', 'tenido', 'tenida', 'tenidos', 'tenidas', 'tened']\n"
     ]
    },
    {
     "name": "stderr",
     "output_type": "stream",
     "text": [
      "[nltk_data] Downloading package stopwords to\n",
      "[nltk_data]     C:\\Users\\Usuario\\AppData\\Roaming\\nltk_data...\n",
      "[nltk_data]   Package stopwords is already up-to-date!\n"
     ]
    }
   ],
   "source": [
    "# Stop words in English and Spanish\n",
    "import nltk\n",
    "from nltk.corpus import stopwords\n",
    "nltk.download('stopwords')\n",
    "print(stopwords.words('english'))\n",
    "print(stopwords.words('spanish'))"
   ]
  }
 ],
 "metadata": {
  "kernelspec": {
   "display_name": "Python 3",
   "language": "python",
   "name": "python3"
  },
  "language_info": {
   "codemirror_mode": {
    "name": "ipython",
    "version": 3
   },
   "file_extension": ".py",
   "mimetype": "text/x-python",
   "name": "python",
   "nbconvert_exporter": "python",
   "pygments_lexer": "ipython3",
   "version": "3.9.6"
  },
  "orig_nbformat": 4
 },
 "nbformat": 4,
 "nbformat_minor": 2
}
